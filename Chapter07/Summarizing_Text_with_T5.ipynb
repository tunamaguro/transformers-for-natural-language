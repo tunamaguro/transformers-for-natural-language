{
  "cells": [
    {
      "cell_type": "markdown",
      "metadata": {
        "id": "RcdcqBkV0MTU"
      },
      "source": [
        "#Summarizing Text with T5\n",
        "Copyright 2020, Denis Rothman. MIT License. Hugging Face usage example was modified for educational purposes.\n",
        "\n",
        "[Hugging Face Models](https://huggingface.co/transformers/model_doc/t5.html)\n",
        "\n",
        "[Hugging Face Framework Usage](https://huggingface.co/transformers/usage.html)\n"
      ]
    },
    {
      "cell_type": "code",
      "execution_count": 12,
      "metadata": {
        "colab": {
          "base_uri": "https://localhost:8080/"
        },
        "id": "06QFZGxsf_KJ",
        "outputId": "4bb34ef6-44f5-4ae5-d334-8fa716bf9656"
      },
      "outputs": [
        {
          "name": "stdout",
          "output_type": "stream",
          "text": [
            "Defaulting to user installation because normal site-packages is not writeable\n",
            "Requirement already satisfied: transformers in /usr/local/lib/python3.10/dist-packages (4.31.0)\n",
            "Requirement already satisfied: filelock in /usr/local/lib/python3.10/dist-packages (from transformers) (3.12.2)\n",
            "Requirement already satisfied: huggingface-hub<1.0,>=0.14.1 in /usr/local/lib/python3.10/dist-packages (from transformers) (0.16.4)\n",
            "Requirement already satisfied: numpy>=1.17 in /usr/local/lib/python3.10/dist-packages (from transformers) (1.24.3)\n",
            "Requirement already satisfied: packaging>=20.0 in /usr/local/lib/python3.10/dist-packages (from transformers) (23.1)\n",
            "Requirement already satisfied: pyyaml>=5.1 in /usr/local/lib/python3.10/dist-packages (from transformers) (6.0.1)\n",
            "Requirement already satisfied: regex!=2019.12.17 in /usr/local/lib/python3.10/dist-packages (from transformers) (2023.6.3)\n",
            "Requirement already satisfied: requests in /usr/local/lib/python3.10/dist-packages (from transformers) (2.31.0)\n",
            "Requirement already satisfied: tokenizers!=0.11.3,<0.14,>=0.11.1 in /usr/local/lib/python3.10/dist-packages (from transformers) (0.13.3)\n",
            "Requirement already satisfied: safetensors>=0.3.1 in /usr/local/lib/python3.10/dist-packages (from transformers) (0.3.1)\n",
            "Requirement already satisfied: tqdm>=4.27 in /usr/local/lib/python3.10/dist-packages (from transformers) (4.65.0)\n",
            "Requirement already satisfied: fsspec in /usr/local/lib/python3.10/dist-packages (from huggingface-hub<1.0,>=0.14.1->transformers) (2023.6.0)\n",
            "Requirement already satisfied: typing-extensions>=3.7.4.3 in /usr/local/lib/python3.10/dist-packages (from huggingface-hub<1.0,>=0.14.1->transformers) (4.5.0)\n",
            "Requirement already satisfied: charset-normalizer<4,>=2 in /usr/local/lib/python3.10/dist-packages (from requests->transformers) (3.2.0)\n",
            "Requirement already satisfied: idna<4,>=2.5 in /usr/local/lib/python3.10/dist-packages (from requests->transformers) (3.4)\n",
            "Requirement already satisfied: urllib3<3,>=1.21.1 in /usr/local/lib/python3.10/dist-packages (from requests->transformers) (1.26.16)\n",
            "Requirement already satisfied: certifi>=2017.4.17 in /usr/local/lib/python3.10/dist-packages (from requests->transformers) (2023.7.22)\n"
          ]
        }
      ],
      "source": [
        "!pip install transformers"
      ]
    },
    {
      "cell_type": "code",
      "execution_count": 13,
      "metadata": {
        "colab": {
          "base_uri": "https://localhost:8080/"
        },
        "id": "3tYFf-cEIkKL",
        "outputId": "6061799b-9e78-42c5-9902-d268217273e4"
      },
      "outputs": [
        {
          "name": "stdout",
          "output_type": "stream",
          "text": [
            "Defaulting to user installation because normal site-packages is not writeable\n",
            "Requirement already satisfied: sentencepiece in /home/vscode/.local/lib/python3.10/site-packages (0.1.99)\n"
          ]
        }
      ],
      "source": [
        "!pip install sentencepiece"
      ]
    },
    {
      "cell_type": "code",
      "execution_count": 14,
      "metadata": {
        "id": "FEQO4tDl7xH_"
      },
      "outputs": [],
      "source": [
        "display_architecture=True"
      ]
    },
    {
      "cell_type": "code",
      "execution_count": 15,
      "metadata": {
        "colab": {
          "base_uri": "https://localhost:8080/",
          "height": 235,
          "referenced_widgets": [
            "311dd5614ff1456fa608b06c6a486333",
            "483e8e39248842cca6fdb69497417033",
            "898bb243539e4693a1a024e54dac42e2",
            "ab283be8197e4a638fd83dc475b57486",
            "af7cb58500024f7cac6545a44045bdd1",
            "d252ead0d3fc4885bed21c592dc9394c",
            "8ed15a3ae7c64fdea663832082e80529",
            "6a4014978e96442789889fef7919d87f",
            "173d4c16ef284a6085b183da2be8574e",
            "15d71a8c88ab4dc2bfb20853b5bac3d3",
            "fef9e2aa436040c0822605be0df0c359",
            "9b0393c7c87e42838da0e38fb72b2941",
            "3707cb9b877c451bb245d051c19af8fa",
            "28ac8f3a26ca4c51ab913c482234f3ab",
            "3ef057edd14f4fafbbb0b6fb81e9ba97",
            "8ff347600d6f42e5bf198232909fe086",
            "31a90525042744a49f8d48305354b9ec",
            "55811622761d49559291f3e74f072d31",
            "3c68af00a0784efca7a3dce29c060eef",
            "07acd3ae43eb4dfb893cc65e72320367",
            "4a1b68c322254a53a77e4d05e9ee7631",
            "e7c516f923f74666a8a4b11e17c333bd",
            "0be43a9c00324bb9abeedeb2a67b883a",
            "369a4af884f3436683d68ec126d7b6ec"
          ]
        },
        "id": "q8suV48O07TW",
        "outputId": "cb65b089-f9f1-423c-8c35-f5f39bc7c139"
      },
      "outputs": [
        {
          "data": {
            "application/vnd.jupyter.widget-view+json": {
              "model_id": "3e928cb6edee493496ae36d980042ef1",
              "version_major": 2,
              "version_minor": 0
            },
            "text/plain": [
              "Downloading (…)lve/main/config.json:   0%|          | 0.00/1.44k [00:00<?, ?B/s]"
            ]
          },
          "metadata": {},
          "output_type": "display_data"
        },
        {
          "data": {
            "application/vnd.jupyter.widget-view+json": {
              "model_id": "df1f710c52ec4828927a955d6761231f",
              "version_major": 2,
              "version_minor": 0
            },
            "text/plain": [
              "Downloading (…)model.bin.index.json:   0%|          | 0.00/50.8k [00:00<?, ?B/s]"
            ]
          },
          "metadata": {},
          "output_type": "display_data"
        },
        {
          "data": {
            "application/vnd.jupyter.widget-view+json": {
              "model_id": "c94c8f46c7c9489ca4d6f98ac591909b",
              "version_major": 2,
              "version_minor": 0
            },
            "text/plain": [
              "Downloading shards:   0%|          | 0/2 [00:00<?, ?it/s]"
            ]
          },
          "metadata": {},
          "output_type": "display_data"
        },
        {
          "data": {
            "application/vnd.jupyter.widget-view+json": {
              "model_id": "129611e14e1b43639979d845db8f602f",
              "version_major": 2,
              "version_minor": 0
            },
            "text/plain": [
              "Downloading (…)l-00001-of-00002.bin:   0%|          | 0.00/9.45G [00:00<?, ?B/s]"
            ]
          },
          "metadata": {},
          "output_type": "display_data"
        },
        {
          "data": {
            "application/vnd.jupyter.widget-view+json": {
              "model_id": "80b0cb89005e4fc2aa14842b37a83fcb",
              "version_major": 2,
              "version_minor": 0
            },
            "text/plain": [
              "Downloading (…)l-00002-of-00002.bin:   0%|          | 0.00/1.95G [00:00<?, ?B/s]"
            ]
          },
          "metadata": {},
          "output_type": "display_data"
        },
        {
          "data": {
            "application/vnd.jupyter.widget-view+json": {
              "model_id": "06bf9bbc69d04c9c82e8d64a797845d2",
              "version_major": 2,
              "version_minor": 0
            },
            "text/plain": [
              "Loading checkpoint shards:   0%|          | 0/2 [00:00<?, ?it/s]"
            ]
          },
          "metadata": {},
          "output_type": "display_data"
        },
        {
          "data": {
            "application/vnd.jupyter.widget-view+json": {
              "model_id": "0bf0b50259694c3d8a8b76096b9fea9a",
              "version_major": 2,
              "version_minor": 0
            },
            "text/plain": [
              "Downloading (…)neration_config.json:   0%|          | 0.00/147 [00:00<?, ?B/s]"
            ]
          },
          "metadata": {},
          "output_type": "display_data"
        },
        {
          "data": {
            "application/vnd.jupyter.widget-view+json": {
              "model_id": "fd0df0cf84ae46688f134717fd8a8cde",
              "version_major": 2,
              "version_minor": 0
            },
            "text/plain": [
              "Downloading spiece.model:   0%|          | 0.00/792k [00:00<?, ?B/s]"
            ]
          },
          "metadata": {},
          "output_type": "display_data"
        },
        {
          "data": {
            "application/vnd.jupyter.widget-view+json": {
              "model_id": "f05c3e85b089421aab99ff5a02f25207",
              "version_major": 2,
              "version_minor": 0
            },
            "text/plain": [
              "Downloading (…)cial_tokens_map.json:   0%|          | 0.00/2.20k [00:00<?, ?B/s]"
            ]
          },
          "metadata": {},
          "output_type": "display_data"
        },
        {
          "data": {
            "application/vnd.jupyter.widget-view+json": {
              "model_id": "1bee8fed6a5b44e18f3ecff5bb666e24",
              "version_major": 2,
              "version_minor": 0
            },
            "text/plain": [
              "Downloading (…)okenizer_config.json:   0%|          | 0.00/2.54k [00:00<?, ?B/s]"
            ]
          },
          "metadata": {},
          "output_type": "display_data"
        }
      ],
      "source": [
        "import torch\n",
        "import json\n",
        "from transformers import T5Tokenizer, T5ForConditionalGeneration\n",
        "\n",
        "model = T5ForConditionalGeneration.from_pretrained(\"google/flan-t5-xl\")\n",
        "tokenizer = T5Tokenizer.from_pretrained(\"google/flan-t5-xl\")\n",
        "device = torch.device(\"cpu\")\n"
      ]
    },
    {
      "cell_type": "code",
      "execution_count": 16,
      "metadata": {
        "colab": {
          "base_uri": "https://localhost:8080/"
        },
        "id": "Q6zHDK7I1GsY",
        "outputId": "21dc9317-47da-414e-b6fb-a24f60e1cda6"
      },
      "outputs": [
        {
          "name": "stdout",
          "output_type": "stream",
          "text": [
            "T5Config {\n",
            "  \"_name_or_path\": \"google/flan-t5-xl\",\n",
            "  \"architectures\": [\n",
            "    \"T5ForConditionalGeneration\"\n",
            "  ],\n",
            "  \"d_ff\": 5120,\n",
            "  \"d_kv\": 64,\n",
            "  \"d_model\": 2048,\n",
            "  \"decoder_start_token_id\": 0,\n",
            "  \"dense_act_fn\": \"gelu_new\",\n",
            "  \"dropout_rate\": 0.1,\n",
            "  \"eos_token_id\": 1,\n",
            "  \"feed_forward_proj\": \"gated-gelu\",\n",
            "  \"initializer_factor\": 1.0,\n",
            "  \"is_encoder_decoder\": true,\n",
            "  \"is_gated_act\": true,\n",
            "  \"layer_norm_epsilon\": 1e-06,\n",
            "  \"model_type\": \"t5\",\n",
            "  \"n_positions\": 512,\n",
            "  \"num_decoder_layers\": 24,\n",
            "  \"num_heads\": 32,\n",
            "  \"num_layers\": 24,\n",
            "  \"output_past\": true,\n",
            "  \"pad_token_id\": 0,\n",
            "  \"relative_attention_max_distance\": 128,\n",
            "  \"relative_attention_num_buckets\": 32,\n",
            "  \"task_specific_params\": {\n",
            "    \"summarization\": {\n",
            "      \"early_stopping\": true,\n",
            "      \"length_penalty\": 2.0,\n",
            "      \"max_length\": 200,\n",
            "      \"min_length\": 30,\n",
            "      \"no_repeat_ngram_size\": 3,\n",
            "      \"num_beams\": 4,\n",
            "      \"prefix\": \"summarize: \"\n",
            "    },\n",
            "    \"translation_en_to_de\": {\n",
            "      \"early_stopping\": true,\n",
            "      \"max_length\": 300,\n",
            "      \"num_beams\": 4,\n",
            "      \"prefix\": \"translate English to German: \"\n",
            "    },\n",
            "    \"translation_en_to_fr\": {\n",
            "      \"early_stopping\": true,\n",
            "      \"max_length\": 300,\n",
            "      \"num_beams\": 4,\n",
            "      \"prefix\": \"translate English to French: \"\n",
            "    },\n",
            "    \"translation_en_to_ro\": {\n",
            "      \"early_stopping\": true,\n",
            "      \"max_length\": 300,\n",
            "      \"num_beams\": 4,\n",
            "      \"prefix\": \"translate English to Romanian: \"\n",
            "    }\n",
            "  },\n",
            "  \"tie_word_embeddings\": false,\n",
            "  \"torch_dtype\": \"float32\",\n",
            "  \"transformers_version\": \"4.31.0\",\n",
            "  \"use_cache\": true,\n",
            "  \"vocab_size\": 32128\n",
            "}\n",
            "\n"
          ]
        }
      ],
      "source": [
        "if display_architecture==True:\n",
        " print(model.config)"
      ]
    },
    {
      "cell_type": "code",
      "execution_count": 17,
      "metadata": {
        "colab": {
          "base_uri": "https://localhost:8080/"
        },
        "id": "5LaWN15NPIPC",
        "outputId": "623480ce-b408-462b-a8c5-5c12959f724c"
      },
      "outputs": [
        {
          "name": "stdout",
          "output_type": "stream",
          "text": [
            "T5ForConditionalGeneration(\n",
            "  (shared): Embedding(32128, 2048)\n",
            "  (encoder): T5Stack(\n",
            "    (embed_tokens): Embedding(32128, 2048)\n",
            "    (block): ModuleList(\n",
            "      (0): T5Block(\n",
            "        (layer): ModuleList(\n",
            "          (0): T5LayerSelfAttention(\n",
            "            (SelfAttention): T5Attention(\n",
            "              (q): Linear(in_features=2048, out_features=2048, bias=False)\n",
            "              (k): Linear(in_features=2048, out_features=2048, bias=False)\n",
            "              (v): Linear(in_features=2048, out_features=2048, bias=False)\n",
            "              (o): Linear(in_features=2048, out_features=2048, bias=False)\n",
            "              (relative_attention_bias): Embedding(32, 32)\n",
            "            )\n",
            "            (layer_norm): T5LayerNorm()\n",
            "            (dropout): Dropout(p=0.1, inplace=False)\n",
            "          )\n",
            "          (1): T5LayerFF(\n",
            "            (DenseReluDense): T5DenseGatedActDense(\n",
            "              (wi_0): Linear(in_features=2048, out_features=5120, bias=False)\n",
            "              (wi_1): Linear(in_features=2048, out_features=5120, bias=False)\n",
            "              (wo): Linear(in_features=5120, out_features=2048, bias=False)\n",
            "              (dropout): Dropout(p=0.1, inplace=False)\n",
            "              (act): NewGELUActivation()\n",
            "            )\n",
            "            (layer_norm): T5LayerNorm()\n",
            "            (dropout): Dropout(p=0.1, inplace=False)\n",
            "          )\n",
            "        )\n",
            "      )\n",
            "      (1-23): 23 x T5Block(\n",
            "        (layer): ModuleList(\n",
            "          (0): T5LayerSelfAttention(\n",
            "            (SelfAttention): T5Attention(\n",
            "              (q): Linear(in_features=2048, out_features=2048, bias=False)\n",
            "              (k): Linear(in_features=2048, out_features=2048, bias=False)\n",
            "              (v): Linear(in_features=2048, out_features=2048, bias=False)\n",
            "              (o): Linear(in_features=2048, out_features=2048, bias=False)\n",
            "            )\n",
            "            (layer_norm): T5LayerNorm()\n",
            "            (dropout): Dropout(p=0.1, inplace=False)\n",
            "          )\n",
            "          (1): T5LayerFF(\n",
            "            (DenseReluDense): T5DenseGatedActDense(\n",
            "              (wi_0): Linear(in_features=2048, out_features=5120, bias=False)\n",
            "              (wi_1): Linear(in_features=2048, out_features=5120, bias=False)\n",
            "              (wo): Linear(in_features=5120, out_features=2048, bias=False)\n",
            "              (dropout): Dropout(p=0.1, inplace=False)\n",
            "              (act): NewGELUActivation()\n",
            "            )\n",
            "            (layer_norm): T5LayerNorm()\n",
            "            (dropout): Dropout(p=0.1, inplace=False)\n",
            "          )\n",
            "        )\n",
            "      )\n",
            "    )\n",
            "    (final_layer_norm): T5LayerNorm()\n",
            "    (dropout): Dropout(p=0.1, inplace=False)\n",
            "  )\n",
            "  (decoder): T5Stack(\n",
            "    (embed_tokens): Embedding(32128, 2048)\n",
            "    (block): ModuleList(\n",
            "      (0): T5Block(\n",
            "        (layer): ModuleList(\n",
            "          (0): T5LayerSelfAttention(\n",
            "            (SelfAttention): T5Attention(\n",
            "              (q): Linear(in_features=2048, out_features=2048, bias=False)\n",
            "              (k): Linear(in_features=2048, out_features=2048, bias=False)\n",
            "              (v): Linear(in_features=2048, out_features=2048, bias=False)\n",
            "              (o): Linear(in_features=2048, out_features=2048, bias=False)\n",
            "              (relative_attention_bias): Embedding(32, 32)\n",
            "            )\n",
            "            (layer_norm): T5LayerNorm()\n",
            "            (dropout): Dropout(p=0.1, inplace=False)\n",
            "          )\n",
            "          (1): T5LayerCrossAttention(\n",
            "            (EncDecAttention): T5Attention(\n",
            "              (q): Linear(in_features=2048, out_features=2048, bias=False)\n",
            "              (k): Linear(in_features=2048, out_features=2048, bias=False)\n",
            "              (v): Linear(in_features=2048, out_features=2048, bias=False)\n",
            "              (o): Linear(in_features=2048, out_features=2048, bias=False)\n",
            "            )\n",
            "            (layer_norm): T5LayerNorm()\n",
            "            (dropout): Dropout(p=0.1, inplace=False)\n",
            "          )\n",
            "          (2): T5LayerFF(\n",
            "            (DenseReluDense): T5DenseGatedActDense(\n",
            "              (wi_0): Linear(in_features=2048, out_features=5120, bias=False)\n",
            "              (wi_1): Linear(in_features=2048, out_features=5120, bias=False)\n",
            "              (wo): Linear(in_features=5120, out_features=2048, bias=False)\n",
            "              (dropout): Dropout(p=0.1, inplace=False)\n",
            "              (act): NewGELUActivation()\n",
            "            )\n",
            "            (layer_norm): T5LayerNorm()\n",
            "            (dropout): Dropout(p=0.1, inplace=False)\n",
            "          )\n",
            "        )\n",
            "      )\n",
            "      (1-23): 23 x T5Block(\n",
            "        (layer): ModuleList(\n",
            "          (0): T5LayerSelfAttention(\n",
            "            (SelfAttention): T5Attention(\n",
            "              (q): Linear(in_features=2048, out_features=2048, bias=False)\n",
            "              (k): Linear(in_features=2048, out_features=2048, bias=False)\n",
            "              (v): Linear(in_features=2048, out_features=2048, bias=False)\n",
            "              (o): Linear(in_features=2048, out_features=2048, bias=False)\n",
            "            )\n",
            "            (layer_norm): T5LayerNorm()\n",
            "            (dropout): Dropout(p=0.1, inplace=False)\n",
            "          )\n",
            "          (1): T5LayerCrossAttention(\n",
            "            (EncDecAttention): T5Attention(\n",
            "              (q): Linear(in_features=2048, out_features=2048, bias=False)\n",
            "              (k): Linear(in_features=2048, out_features=2048, bias=False)\n",
            "              (v): Linear(in_features=2048, out_features=2048, bias=False)\n",
            "              (o): Linear(in_features=2048, out_features=2048, bias=False)\n",
            "            )\n",
            "            (layer_norm): T5LayerNorm()\n",
            "            (dropout): Dropout(p=0.1, inplace=False)\n",
            "          )\n",
            "          (2): T5LayerFF(\n",
            "            (DenseReluDense): T5DenseGatedActDense(\n",
            "              (wi_0): Linear(in_features=2048, out_features=5120, bias=False)\n",
            "              (wi_1): Linear(in_features=2048, out_features=5120, bias=False)\n",
            "              (wo): Linear(in_features=5120, out_features=2048, bias=False)\n",
            "              (dropout): Dropout(p=0.1, inplace=False)\n",
            "              (act): NewGELUActivation()\n",
            "            )\n",
            "            (layer_norm): T5LayerNorm()\n",
            "            (dropout): Dropout(p=0.1, inplace=False)\n",
            "          )\n",
            "        )\n",
            "      )\n",
            "    )\n",
            "    (final_layer_norm): T5LayerNorm()\n",
            "    (dropout): Dropout(p=0.1, inplace=False)\n",
            "  )\n",
            "  (lm_head): Linear(in_features=2048, out_features=32128, bias=False)\n",
            ")\n"
          ]
        }
      ],
      "source": [
        "if(display_architecture==True):\n",
        "  print(model)"
      ]
    },
    {
      "cell_type": "code",
      "execution_count": 18,
      "metadata": {
        "colab": {
          "base_uri": "https://localhost:8080/"
        },
        "id": "DS2twf1P1UYI",
        "outputId": "e060a702-cf27-41b4-d162-ffb21872b81c"
      },
      "outputs": [
        {
          "name": "stdout",
          "output_type": "stream",
          "text": [
            "T5Stack(\n",
            "  (embed_tokens): Embedding(32128, 2048)\n",
            "  (block): ModuleList(\n",
            "    (0): T5Block(\n",
            "      (layer): ModuleList(\n",
            "        (0): T5LayerSelfAttention(\n",
            "          (SelfAttention): T5Attention(\n",
            "            (q): Linear(in_features=2048, out_features=2048, bias=False)\n",
            "            (k): Linear(in_features=2048, out_features=2048, bias=False)\n",
            "            (v): Linear(in_features=2048, out_features=2048, bias=False)\n",
            "            (o): Linear(in_features=2048, out_features=2048, bias=False)\n",
            "            (relative_attention_bias): Embedding(32, 32)\n",
            "          )\n",
            "          (layer_norm): T5LayerNorm()\n",
            "          (dropout): Dropout(p=0.1, inplace=False)\n",
            "        )\n",
            "        (1): T5LayerFF(\n",
            "          (DenseReluDense): T5DenseGatedActDense(\n",
            "            (wi_0): Linear(in_features=2048, out_features=5120, bias=False)\n",
            "            (wi_1): Linear(in_features=2048, out_features=5120, bias=False)\n",
            "            (wo): Linear(in_features=5120, out_features=2048, bias=False)\n",
            "            (dropout): Dropout(p=0.1, inplace=False)\n",
            "            (act): NewGELUActivation()\n",
            "          )\n",
            "          (layer_norm): T5LayerNorm()\n",
            "          (dropout): Dropout(p=0.1, inplace=False)\n",
            "        )\n",
            "      )\n",
            "    )\n",
            "    (1-23): 23 x T5Block(\n",
            "      (layer): ModuleList(\n",
            "        (0): T5LayerSelfAttention(\n",
            "          (SelfAttention): T5Attention(\n",
            "            (q): Linear(in_features=2048, out_features=2048, bias=False)\n",
            "            (k): Linear(in_features=2048, out_features=2048, bias=False)\n",
            "            (v): Linear(in_features=2048, out_features=2048, bias=False)\n",
            "            (o): Linear(in_features=2048, out_features=2048, bias=False)\n",
            "          )\n",
            "          (layer_norm): T5LayerNorm()\n",
            "          (dropout): Dropout(p=0.1, inplace=False)\n",
            "        )\n",
            "        (1): T5LayerFF(\n",
            "          (DenseReluDense): T5DenseGatedActDense(\n",
            "            (wi_0): Linear(in_features=2048, out_features=5120, bias=False)\n",
            "            (wi_1): Linear(in_features=2048, out_features=5120, bias=False)\n",
            "            (wo): Linear(in_features=5120, out_features=2048, bias=False)\n",
            "            (dropout): Dropout(p=0.1, inplace=False)\n",
            "            (act): NewGELUActivation()\n",
            "          )\n",
            "          (layer_norm): T5LayerNorm()\n",
            "          (dropout): Dropout(p=0.1, inplace=False)\n",
            "        )\n",
            "      )\n",
            "    )\n",
            "  )\n",
            "  (final_layer_norm): T5LayerNorm()\n",
            "  (dropout): Dropout(p=0.1, inplace=False)\n",
            ")\n"
          ]
        }
      ],
      "source": [
        "if display_architecture==True:\n",
        "  print(model.encoder)"
      ]
    },
    {
      "cell_type": "code",
      "execution_count": 19,
      "metadata": {
        "colab": {
          "base_uri": "https://localhost:8080/"
        },
        "id": "MCwdhX9U1MA5",
        "outputId": "ae39b023-77ec-483d-fb33-2bc59d2c0996"
      },
      "outputs": [
        {
          "name": "stdout",
          "output_type": "stream",
          "text": [
            "T5Stack(\n",
            "  (embed_tokens): Embedding(32128, 2048)\n",
            "  (block): ModuleList(\n",
            "    (0): T5Block(\n",
            "      (layer): ModuleList(\n",
            "        (0): T5LayerSelfAttention(\n",
            "          (SelfAttention): T5Attention(\n",
            "            (q): Linear(in_features=2048, out_features=2048, bias=False)\n",
            "            (k): Linear(in_features=2048, out_features=2048, bias=False)\n",
            "            (v): Linear(in_features=2048, out_features=2048, bias=False)\n",
            "            (o): Linear(in_features=2048, out_features=2048, bias=False)\n",
            "            (relative_attention_bias): Embedding(32, 32)\n",
            "          )\n",
            "          (layer_norm): T5LayerNorm()\n",
            "          (dropout): Dropout(p=0.1, inplace=False)\n",
            "        )\n",
            "        (1): T5LayerCrossAttention(\n",
            "          (EncDecAttention): T5Attention(\n",
            "            (q): Linear(in_features=2048, out_features=2048, bias=False)\n",
            "            (k): Linear(in_features=2048, out_features=2048, bias=False)\n",
            "            (v): Linear(in_features=2048, out_features=2048, bias=False)\n",
            "            (o): Linear(in_features=2048, out_features=2048, bias=False)\n",
            "          )\n",
            "          (layer_norm): T5LayerNorm()\n",
            "          (dropout): Dropout(p=0.1, inplace=False)\n",
            "        )\n",
            "        (2): T5LayerFF(\n",
            "          (DenseReluDense): T5DenseGatedActDense(\n",
            "            (wi_0): Linear(in_features=2048, out_features=5120, bias=False)\n",
            "            (wi_1): Linear(in_features=2048, out_features=5120, bias=False)\n",
            "            (wo): Linear(in_features=5120, out_features=2048, bias=False)\n",
            "            (dropout): Dropout(p=0.1, inplace=False)\n",
            "            (act): NewGELUActivation()\n",
            "          )\n",
            "          (layer_norm): T5LayerNorm()\n",
            "          (dropout): Dropout(p=0.1, inplace=False)\n",
            "        )\n",
            "      )\n",
            "    )\n",
            "    (1-23): 23 x T5Block(\n",
            "      (layer): ModuleList(\n",
            "        (0): T5LayerSelfAttention(\n",
            "          (SelfAttention): T5Attention(\n",
            "            (q): Linear(in_features=2048, out_features=2048, bias=False)\n",
            "            (k): Linear(in_features=2048, out_features=2048, bias=False)\n",
            "            (v): Linear(in_features=2048, out_features=2048, bias=False)\n",
            "            (o): Linear(in_features=2048, out_features=2048, bias=False)\n",
            "          )\n",
            "          (layer_norm): T5LayerNorm()\n",
            "          (dropout): Dropout(p=0.1, inplace=False)\n",
            "        )\n",
            "        (1): T5LayerCrossAttention(\n",
            "          (EncDecAttention): T5Attention(\n",
            "            (q): Linear(in_features=2048, out_features=2048, bias=False)\n",
            "            (k): Linear(in_features=2048, out_features=2048, bias=False)\n",
            "            (v): Linear(in_features=2048, out_features=2048, bias=False)\n",
            "            (o): Linear(in_features=2048, out_features=2048, bias=False)\n",
            "          )\n",
            "          (layer_norm): T5LayerNorm()\n",
            "          (dropout): Dropout(p=0.1, inplace=False)\n",
            "        )\n",
            "        (2): T5LayerFF(\n",
            "          (DenseReluDense): T5DenseGatedActDense(\n",
            "            (wi_0): Linear(in_features=2048, out_features=5120, bias=False)\n",
            "            (wi_1): Linear(in_features=2048, out_features=5120, bias=False)\n",
            "            (wo): Linear(in_features=5120, out_features=2048, bias=False)\n",
            "            (dropout): Dropout(p=0.1, inplace=False)\n",
            "            (act): NewGELUActivation()\n",
            "          )\n",
            "          (layer_norm): T5LayerNorm()\n",
            "          (dropout): Dropout(p=0.1, inplace=False)\n",
            "        )\n",
            "      )\n",
            "    )\n",
            "  )\n",
            "  (final_layer_norm): T5LayerNorm()\n",
            "  (dropout): Dropout(p=0.1, inplace=False)\n",
            ")\n"
          ]
        }
      ],
      "source": [
        "if display_architecture==True:\n",
        "  print(model.decoder)"
      ]
    },
    {
      "cell_type": "code",
      "execution_count": 20,
      "metadata": {
        "colab": {
          "base_uri": "https://localhost:8080/"
        },
        "id": "GmrCDtcL1hPn",
        "outputId": "d93ba363-7336-4514-b693-b4c33dd8cb07"
      },
      "outputs": [
        {
          "name": "stdout",
          "output_type": "stream",
          "text": [
            "<bound method T5ForConditionalGeneration.forward of T5ForConditionalGeneration(\n",
            "  (shared): Embedding(32128, 2048)\n",
            "  (encoder): T5Stack(\n",
            "    (embed_tokens): Embedding(32128, 2048)\n",
            "    (block): ModuleList(\n",
            "      (0): T5Block(\n",
            "        (layer): ModuleList(\n",
            "          (0): T5LayerSelfAttention(\n",
            "            (SelfAttention): T5Attention(\n",
            "              (q): Linear(in_features=2048, out_features=2048, bias=False)\n",
            "              (k): Linear(in_features=2048, out_features=2048, bias=False)\n",
            "              (v): Linear(in_features=2048, out_features=2048, bias=False)\n",
            "              (o): Linear(in_features=2048, out_features=2048, bias=False)\n",
            "              (relative_attention_bias): Embedding(32, 32)\n",
            "            )\n",
            "            (layer_norm): T5LayerNorm()\n",
            "            (dropout): Dropout(p=0.1, inplace=False)\n",
            "          )\n",
            "          (1): T5LayerFF(\n",
            "            (DenseReluDense): T5DenseGatedActDense(\n",
            "              (wi_0): Linear(in_features=2048, out_features=5120, bias=False)\n",
            "              (wi_1): Linear(in_features=2048, out_features=5120, bias=False)\n",
            "              (wo): Linear(in_features=5120, out_features=2048, bias=False)\n",
            "              (dropout): Dropout(p=0.1, inplace=False)\n",
            "              (act): NewGELUActivation()\n",
            "            )\n",
            "            (layer_norm): T5LayerNorm()\n",
            "            (dropout): Dropout(p=0.1, inplace=False)\n",
            "          )\n",
            "        )\n",
            "      )\n",
            "      (1-23): 23 x T5Block(\n",
            "        (layer): ModuleList(\n",
            "          (0): T5LayerSelfAttention(\n",
            "            (SelfAttention): T5Attention(\n",
            "              (q): Linear(in_features=2048, out_features=2048, bias=False)\n",
            "              (k): Linear(in_features=2048, out_features=2048, bias=False)\n",
            "              (v): Linear(in_features=2048, out_features=2048, bias=False)\n",
            "              (o): Linear(in_features=2048, out_features=2048, bias=False)\n",
            "            )\n",
            "            (layer_norm): T5LayerNorm()\n",
            "            (dropout): Dropout(p=0.1, inplace=False)\n",
            "          )\n",
            "          (1): T5LayerFF(\n",
            "            (DenseReluDense): T5DenseGatedActDense(\n",
            "              (wi_0): Linear(in_features=2048, out_features=5120, bias=False)\n",
            "              (wi_1): Linear(in_features=2048, out_features=5120, bias=False)\n",
            "              (wo): Linear(in_features=5120, out_features=2048, bias=False)\n",
            "              (dropout): Dropout(p=0.1, inplace=False)\n",
            "              (act): NewGELUActivation()\n",
            "            )\n",
            "            (layer_norm): T5LayerNorm()\n",
            "            (dropout): Dropout(p=0.1, inplace=False)\n",
            "          )\n",
            "        )\n",
            "      )\n",
            "    )\n",
            "    (final_layer_norm): T5LayerNorm()\n",
            "    (dropout): Dropout(p=0.1, inplace=False)\n",
            "  )\n",
            "  (decoder): T5Stack(\n",
            "    (embed_tokens): Embedding(32128, 2048)\n",
            "    (block): ModuleList(\n",
            "      (0): T5Block(\n",
            "        (layer): ModuleList(\n",
            "          (0): T5LayerSelfAttention(\n",
            "            (SelfAttention): T5Attention(\n",
            "              (q): Linear(in_features=2048, out_features=2048, bias=False)\n",
            "              (k): Linear(in_features=2048, out_features=2048, bias=False)\n",
            "              (v): Linear(in_features=2048, out_features=2048, bias=False)\n",
            "              (o): Linear(in_features=2048, out_features=2048, bias=False)\n",
            "              (relative_attention_bias): Embedding(32, 32)\n",
            "            )\n",
            "            (layer_norm): T5LayerNorm()\n",
            "            (dropout): Dropout(p=0.1, inplace=False)\n",
            "          )\n",
            "          (1): T5LayerCrossAttention(\n",
            "            (EncDecAttention): T5Attention(\n",
            "              (q): Linear(in_features=2048, out_features=2048, bias=False)\n",
            "              (k): Linear(in_features=2048, out_features=2048, bias=False)\n",
            "              (v): Linear(in_features=2048, out_features=2048, bias=False)\n",
            "              (o): Linear(in_features=2048, out_features=2048, bias=False)\n",
            "            )\n",
            "            (layer_norm): T5LayerNorm()\n",
            "            (dropout): Dropout(p=0.1, inplace=False)\n",
            "          )\n",
            "          (2): T5LayerFF(\n",
            "            (DenseReluDense): T5DenseGatedActDense(\n",
            "              (wi_0): Linear(in_features=2048, out_features=5120, bias=False)\n",
            "              (wi_1): Linear(in_features=2048, out_features=5120, bias=False)\n",
            "              (wo): Linear(in_features=5120, out_features=2048, bias=False)\n",
            "              (dropout): Dropout(p=0.1, inplace=False)\n",
            "              (act): NewGELUActivation()\n",
            "            )\n",
            "            (layer_norm): T5LayerNorm()\n",
            "            (dropout): Dropout(p=0.1, inplace=False)\n",
            "          )\n",
            "        )\n",
            "      )\n",
            "      (1-23): 23 x T5Block(\n",
            "        (layer): ModuleList(\n",
            "          (0): T5LayerSelfAttention(\n",
            "            (SelfAttention): T5Attention(\n",
            "              (q): Linear(in_features=2048, out_features=2048, bias=False)\n",
            "              (k): Linear(in_features=2048, out_features=2048, bias=False)\n",
            "              (v): Linear(in_features=2048, out_features=2048, bias=False)\n",
            "              (o): Linear(in_features=2048, out_features=2048, bias=False)\n",
            "            )\n",
            "            (layer_norm): T5LayerNorm()\n",
            "            (dropout): Dropout(p=0.1, inplace=False)\n",
            "          )\n",
            "          (1): T5LayerCrossAttention(\n",
            "            (EncDecAttention): T5Attention(\n",
            "              (q): Linear(in_features=2048, out_features=2048, bias=False)\n",
            "              (k): Linear(in_features=2048, out_features=2048, bias=False)\n",
            "              (v): Linear(in_features=2048, out_features=2048, bias=False)\n",
            "              (o): Linear(in_features=2048, out_features=2048, bias=False)\n",
            "            )\n",
            "            (layer_norm): T5LayerNorm()\n",
            "            (dropout): Dropout(p=0.1, inplace=False)\n",
            "          )\n",
            "          (2): T5LayerFF(\n",
            "            (DenseReluDense): T5DenseGatedActDense(\n",
            "              (wi_0): Linear(in_features=2048, out_features=5120, bias=False)\n",
            "              (wi_1): Linear(in_features=2048, out_features=5120, bias=False)\n",
            "              (wo): Linear(in_features=5120, out_features=2048, bias=False)\n",
            "              (dropout): Dropout(p=0.1, inplace=False)\n",
            "              (act): NewGELUActivation()\n",
            "            )\n",
            "            (layer_norm): T5LayerNorm()\n",
            "            (dropout): Dropout(p=0.1, inplace=False)\n",
            "          )\n",
            "        )\n",
            "      )\n",
            "    )\n",
            "    (final_layer_norm): T5LayerNorm()\n",
            "    (dropout): Dropout(p=0.1, inplace=False)\n",
            "  )\n",
            "  (lm_head): Linear(in_features=2048, out_features=32128, bias=False)\n",
            ")>\n"
          ]
        }
      ],
      "source": [
        "if display_architecture==True:\n",
        "  print(model.forward)"
      ]
    },
    {
      "cell_type": "code",
      "execution_count": 21,
      "metadata": {
        "id": "S5KfhCrifP01"
      },
      "outputs": [],
      "source": [
        "\n",
        "def summarize(text,ml):\n",
        "  preprocess_text = text.strip().replace(\"\\n\",\"\")\n",
        "  t5_prepared_Text = \"summarize: \"+preprocess_text\n",
        "  print (\"Preprocessed and prepared text: \\n\", t5_prepared_Text)\n",
        "\n",
        "  tokenized_text = tokenizer.encode(t5_prepared_Text, return_tensors=\"pt\").to(device)\n",
        "\n",
        "  # summmarize \n",
        "  summary_ids = model.generate(tokenized_text,\n",
        "                                      num_beams=4,\n",
        "                                      no_repeat_ngram_size=2,\n",
        "                                      min_length=30,\n",
        "                                      max_length=ml,\n",
        "                                      early_stopping=True)\n",
        "\n",
        "  output = tokenizer.decode(summary_ids[0], skip_special_tokens=True)\n",
        "  return output"
      ]
    },
    {
      "cell_type": "code",
      "execution_count": 22,
      "metadata": {
        "colab": {
          "base_uri": "https://localhost:8080/"
        },
        "id": "vqiTNoDc7pOv",
        "outputId": "d46bc587-b39d-4e8e-bd5e-3d4d6d529168"
      },
      "outputs": [
        {
          "name": "stdout",
          "output_type": "stream",
          "text": [
            "Number of characters: 534\n",
            "Preprocessed and prepared text: \n",
            " summarize: The United States Declaration of Independence was the first Etextreleased by Project Gutenberg, early in 1971.  The title was storedin an emailed instruction set which required a tape or diskpack behand mounted for retrieval.  The diskpack was the size of a largecake in a cake carrier, cost $1500, and contained 5 megabytes, ofwhich this file took 1-2%.  Two tape backups were kept plus one onpaper tape.  The 10,000 files we hope to have online by the end of2001 should take about 1-2% of a comparably priced drive in 2001.\n",
            "\n",
            "\n",
            "Summarized text: \n",
            " The United States Declaration of Independence was the first Etextreleased by Project Gutenberg, early in 1971. The title wasstoredin an emailed instruction set which required a tape or diskpack behand mounted for retrieval.\n"
          ]
        }
      ],
      "source": [
        "text=\"\"\"\n",
        "The United States Declaration of Independence was the first Etext\n",
        "released by Project Gutenberg, early in 1971.  The title was stored\n",
        "in an emailed instruction set which required a tape or diskpack be\n",
        "hand mounted for retrieval.  The diskpack was the size of a large\n",
        "cake in a cake carrier, cost $1500, and contained 5 megabytes, of\n",
        "which this file took 1-2%.  Two tape backups were kept plus one on\n",
        "paper tape.  The 10,000 files we hope to have online by the end of\n",
        "2001 should take about 1-2% of a comparably priced drive in 2001.\n",
        "\"\"\"\n",
        "print(\"Number of characters:\",len(text))\n",
        "summary=summarize(text,50)\n",
        "print (\"\\n\\nSummarized text: \\n\",summary)\n"
      ]
    },
    {
      "cell_type": "code",
      "execution_count": 25,
      "metadata": {
        "colab": {
          "base_uri": "https://localhost:8080/"
        },
        "id": "2321zS1Q3jPX",
        "outputId": "fccf0c6e-926f-4f65-b3ba-b0e19715f87b"
      },
      "outputs": [
        {
          "name": "stdout",
          "output_type": "stream",
          "text": [
            "Number of characters: 591\n",
            "Preprocessed and prepared text: \n",
            " summarize: No person shall be held to answer for a capital, or otherwise infamous crime,unless on a presentment or indictment of a Grand Jury, except in cases arisingin the land or naval forces, or in the Militia, when in actual servicein time of War or public danger; nor shall any person be subject forthe same offense to be twice put in jeopardy of life or limb;nor shall be compelled in any criminal case to be a witness against himself,nor be deprived of life, liberty, or property, without due process of law;nor shall private property be taken for public use without just compensation.\n",
            "\n",
            "\n",
            "Summarized text: \n",
            " No person shall be held to answer for a capital, or otherwise infamous crime, unless on the presentment or indictment of Grand Jury; nor shall any person be subject for the same offense to be twice put in je\n"
          ]
        }
      ],
      "source": [
        "#Bill of Rights,V\n",
        "text =\"\"\"\n",
        "No person shall be held to answer for a capital, or otherwise infamous crime,\n",
        "unless on a presentment or indictment of a Grand Jury, except in cases arising\n",
        "in the land or naval forces, or in the Militia, when in actual service\n",
        "in time of War or public danger; nor shall any person be subject for\n",
        "the same offense to be twice put in jeopardy of life or limb;\n",
        "nor shall be compelled in any criminal case to be a witness against himself,\n",
        "nor be deprived of life, liberty, or property, without due process of law;\n",
        "nor shall private property be taken for public use without just compensation.\n",
        "\n",
        "\"\"\"\n",
        "print(\"Number of characters:\",len(text))\n",
        "summary=summarize(text,50)\n",
        "print (\"\\n\\nSummarized text: \\n\",summary)\n",
        " "
      ]
    },
    {
      "cell_type": "code",
      "execution_count": 26,
      "metadata": {
        "colab": {
          "base_uri": "https://localhost:8080/"
        },
        "id": "k_h8oQ55_zr5",
        "outputId": "7c957d5a-6711-4169-9244-51562a6cc9cd"
      },
      "outputs": [
        {
          "name": "stdout",
          "output_type": "stream",
          "text": [
            "Number of characters: 1816\n",
            "Preprocessed and prepared text: \n",
            " summarize: The law regarding corporations prescribes that a corporation can be incorporated in the state of Montana to serve any lawful purpose.  In the state of Montana, a corporation has all the powers of a natural person for carrying out its business activities.  The corporation can sue and be sued in its corporate name.  It has perpetual succession.  The corporation can buy, sell or otherwise acquire an interest in a real or personal property.  It can conduct business, carry on operations, and have offices and exercise the powers in a state, territory or district in possession of the U.S., or in a foreign country.  It can appoint officers and agents of the corporation for various duties and fix their compensation.The name of a corporation must contain the word “corporation” or its abbreviation “corp.”  The name of a corporation should not be deceptively similar to the name of another corporation incorporated in the same state.  It should not be deceptively identical to the fictitious name adopted by a foreign corporation having business transactions in the state.The corporation is formed by one or more natural persons by executing and filing articles of incorporation to the secretary of state of filing.  The qualifications for directors are fixed either by articles of incorporation or bylaws.  The names and addresses of the initial directors and purpose of incorporation should be set forth in the articles of incorporation.  The articles of incorporation should contain the corporate name, the number of shares authorized to issue, a brief statement of the character of business carried out by the corporation, the names and addresses of the directors until successors are elected, and name and addresses of incorporators.  The shareholders have the power to change the size of board of directors.\n",
            "\n",
            "\n",
            "Summarized text: \n",
            " Understand the powers of a corporation in Montana. Choose the name of the corporation. File the articles of incorporation with the secretary of state.\n"
          ]
        }
      ],
      "source": [
        "#Montana Corporate Law\n",
        "#https://corporations.uslegal.com/state-corporation-law/montana-corporation-law/#:~:text=Montana%20Corporation%20Law,carrying%20out%20its%20business%20activities.\n",
        "\n",
        "text =\"\"\"The law regarding corporations prescribes that a corporation can be incorporated in the state of Montana to serve any lawful purpose.  In the state of Montana, a corporation has all the powers of a natural person for carrying out its business activities.  The corporation can sue and be sued in its corporate name.  It has perpetual succession.  The corporation can buy, sell or otherwise acquire an interest in a real or personal property.  It can conduct business, carry on operations, and have offices and exercise the powers in a state, territory or district in possession of the U.S., or in a foreign country.  It can appoint officers and agents of the corporation for various duties and fix their compensation.\n",
        "The name of a corporation must contain the word “corporation” or its abbreviation “corp.”  The name of a corporation should not be deceptively similar to the name of another corporation incorporated in the same state.  It should not be deceptively identical to the fictitious name adopted by a foreign corporation having business transactions in the state.\n",
        "The corporation is formed by one or more natural persons by executing and filing articles of incorporation to the secretary of state of filing.  The qualifications for directors are fixed either by articles of incorporation or bylaws.  The names and addresses of the initial directors and purpose of incorporation should be set forth in the articles of incorporation.  The articles of incorporation should contain the corporate name, the number of shares authorized to issue, a brief statement of the character of business carried out by the corporation, the names and addresses of the directors until successors are elected, and name and addresses of incorporators.  The shareholders have the power to change the size of board of directors.\n",
        "\"\"\"\n",
        "print(\"Number of characters:\",len(text))\n",
        "summary=summarize(text,100)\n",
        "print (\"\\n\\nSummarized text: \\n\",summary)\n",
        " "
      ]
    },
    {
      "cell_type": "code",
      "execution_count": null,
      "metadata": {},
      "outputs": [],
      "source": []
    }
  ],
  "metadata": {
    "colab": {
      "collapsed_sections": [],
      "name": "Summarizing_Text_with_T5.ipynb",
      "provenance": []
    },
    "kernelspec": {
      "display_name": "Python 3",
      "name": "python3"
    },
    "language_info": {
      "codemirror_mode": {
        "name": "ipython",
        "version": 3
      },
      "file_extension": ".py",
      "mimetype": "text/x-python",
      "name": "python",
      "nbconvert_exporter": "python",
      "pygments_lexer": "ipython3",
      "version": "3.10.6"
    },
    "widgets": {
      "application/vnd.jupyter.widget-state+json": {
        "07acd3ae43eb4dfb893cc65e72320367": {
          "model_module": "@jupyter-widgets/controls",
          "model_name": "HTMLModel",
          "state": {
            "_dom_classes": [],
            "_model_module": "@jupyter-widgets/controls",
            "_model_module_version": "1.5.0",
            "_model_name": "HTMLModel",
            "_view_count": null,
            "_view_module": "@jupyter-widgets/controls",
            "_view_module_version": "1.5.0",
            "_view_name": "HTMLView",
            "description": "",
            "description_tooltip": null,
            "layout": "IPY_MODEL_369a4af884f3436683d68ec126d7b6ec",
            "placeholder": "​",
            "style": "IPY_MODEL_0be43a9c00324bb9abeedeb2a67b883a",
            "value": " 792k/792k [00:00&lt;00:00, 1.68MB/s]"
          }
        },
        "0be43a9c00324bb9abeedeb2a67b883a": {
          "model_module": "@jupyter-widgets/controls",
          "model_name": "DescriptionStyleModel",
          "state": {
            "_model_module": "@jupyter-widgets/controls",
            "_model_module_version": "1.5.0",
            "_model_name": "DescriptionStyleModel",
            "_view_count": null,
            "_view_module": "@jupyter-widgets/base",
            "_view_module_version": "1.2.0",
            "_view_name": "StyleView",
            "description_width": ""
          }
        },
        "15d71a8c88ab4dc2bfb20853b5bac3d3": {
          "model_module": "@jupyter-widgets/base",
          "model_name": "LayoutModel",
          "state": {
            "_model_module": "@jupyter-widgets/base",
            "_model_module_version": "1.2.0",
            "_model_name": "LayoutModel",
            "_view_count": null,
            "_view_module": "@jupyter-widgets/base",
            "_view_module_version": "1.2.0",
            "_view_name": "LayoutView",
            "align_content": null,
            "align_items": null,
            "align_self": null,
            "border": null,
            "bottom": null,
            "display": null,
            "flex": null,
            "flex_flow": null,
            "grid_area": null,
            "grid_auto_columns": null,
            "grid_auto_flow": null,
            "grid_auto_rows": null,
            "grid_column": null,
            "grid_gap": null,
            "grid_row": null,
            "grid_template_areas": null,
            "grid_template_columns": null,
            "grid_template_rows": null,
            "height": null,
            "justify_content": null,
            "justify_items": null,
            "left": null,
            "margin": null,
            "max_height": null,
            "max_width": null,
            "min_height": null,
            "min_width": null,
            "object_fit": null,
            "object_position": null,
            "order": null,
            "overflow": null,
            "overflow_x": null,
            "overflow_y": null,
            "padding": null,
            "right": null,
            "top": null,
            "visibility": null,
            "width": null
          }
        },
        "173d4c16ef284a6085b183da2be8574e": {
          "model_module": "@jupyter-widgets/controls",
          "model_name": "HBoxModel",
          "state": {
            "_dom_classes": [],
            "_model_module": "@jupyter-widgets/controls",
            "_model_module_version": "1.5.0",
            "_model_name": "HBoxModel",
            "_view_count": null,
            "_view_module": "@jupyter-widgets/controls",
            "_view_module_version": "1.5.0",
            "_view_name": "HBoxView",
            "box_style": "",
            "children": [
              "IPY_MODEL_fef9e2aa436040c0822605be0df0c359",
              "IPY_MODEL_9b0393c7c87e42838da0e38fb72b2941"
            ],
            "layout": "IPY_MODEL_15d71a8c88ab4dc2bfb20853b5bac3d3"
          }
        },
        "28ac8f3a26ca4c51ab913c482234f3ab": {
          "model_module": "@jupyter-widgets/base",
          "model_name": "LayoutModel",
          "state": {
            "_model_module": "@jupyter-widgets/base",
            "_model_module_version": "1.2.0",
            "_model_name": "LayoutModel",
            "_view_count": null,
            "_view_module": "@jupyter-widgets/base",
            "_view_module_version": "1.2.0",
            "_view_name": "LayoutView",
            "align_content": null,
            "align_items": null,
            "align_self": null,
            "border": null,
            "bottom": null,
            "display": null,
            "flex": null,
            "flex_flow": null,
            "grid_area": null,
            "grid_auto_columns": null,
            "grid_auto_flow": null,
            "grid_auto_rows": null,
            "grid_column": null,
            "grid_gap": null,
            "grid_row": null,
            "grid_template_areas": null,
            "grid_template_columns": null,
            "grid_template_rows": null,
            "height": null,
            "justify_content": null,
            "justify_items": null,
            "left": null,
            "margin": null,
            "max_height": null,
            "max_width": null,
            "min_height": null,
            "min_width": null,
            "object_fit": null,
            "object_position": null,
            "order": null,
            "overflow": null,
            "overflow_x": null,
            "overflow_y": null,
            "padding": null,
            "right": null,
            "top": null,
            "visibility": null,
            "width": null
          }
        },
        "311dd5614ff1456fa608b06c6a486333": {
          "model_module": "@jupyter-widgets/controls",
          "model_name": "HBoxModel",
          "state": {
            "_dom_classes": [],
            "_model_module": "@jupyter-widgets/controls",
            "_model_module_version": "1.5.0",
            "_model_name": "HBoxModel",
            "_view_count": null,
            "_view_module": "@jupyter-widgets/controls",
            "_view_module_version": "1.5.0",
            "_view_name": "HBoxView",
            "box_style": "",
            "children": [
              "IPY_MODEL_898bb243539e4693a1a024e54dac42e2",
              "IPY_MODEL_ab283be8197e4a638fd83dc475b57486"
            ],
            "layout": "IPY_MODEL_483e8e39248842cca6fdb69497417033"
          }
        },
        "31a90525042744a49f8d48305354b9ec": {
          "model_module": "@jupyter-widgets/controls",
          "model_name": "HBoxModel",
          "state": {
            "_dom_classes": [],
            "_model_module": "@jupyter-widgets/controls",
            "_model_module_version": "1.5.0",
            "_model_name": "HBoxModel",
            "_view_count": null,
            "_view_module": "@jupyter-widgets/controls",
            "_view_module_version": "1.5.0",
            "_view_name": "HBoxView",
            "box_style": "",
            "children": [
              "IPY_MODEL_3c68af00a0784efca7a3dce29c060eef",
              "IPY_MODEL_07acd3ae43eb4dfb893cc65e72320367"
            ],
            "layout": "IPY_MODEL_55811622761d49559291f3e74f072d31"
          }
        },
        "369a4af884f3436683d68ec126d7b6ec": {
          "model_module": "@jupyter-widgets/base",
          "model_name": "LayoutModel",
          "state": {
            "_model_module": "@jupyter-widgets/base",
            "_model_module_version": "1.2.0",
            "_model_name": "LayoutModel",
            "_view_count": null,
            "_view_module": "@jupyter-widgets/base",
            "_view_module_version": "1.2.0",
            "_view_name": "LayoutView",
            "align_content": null,
            "align_items": null,
            "align_self": null,
            "border": null,
            "bottom": null,
            "display": null,
            "flex": null,
            "flex_flow": null,
            "grid_area": null,
            "grid_auto_columns": null,
            "grid_auto_flow": null,
            "grid_auto_rows": null,
            "grid_column": null,
            "grid_gap": null,
            "grid_row": null,
            "grid_template_areas": null,
            "grid_template_columns": null,
            "grid_template_rows": null,
            "height": null,
            "justify_content": null,
            "justify_items": null,
            "left": null,
            "margin": null,
            "max_height": null,
            "max_width": null,
            "min_height": null,
            "min_width": null,
            "object_fit": null,
            "object_position": null,
            "order": null,
            "overflow": null,
            "overflow_x": null,
            "overflow_y": null,
            "padding": null,
            "right": null,
            "top": null,
            "visibility": null,
            "width": null
          }
        },
        "3707cb9b877c451bb245d051c19af8fa": {
          "model_module": "@jupyter-widgets/controls",
          "model_name": "ProgressStyleModel",
          "state": {
            "_model_module": "@jupyter-widgets/controls",
            "_model_module_version": "1.5.0",
            "_model_name": "ProgressStyleModel",
            "_view_count": null,
            "_view_module": "@jupyter-widgets/base",
            "_view_module_version": "1.2.0",
            "_view_name": "StyleView",
            "bar_color": null,
            "description_width": "initial"
          }
        },
        "3c68af00a0784efca7a3dce29c060eef": {
          "model_module": "@jupyter-widgets/controls",
          "model_name": "FloatProgressModel",
          "state": {
            "_dom_classes": [],
            "_model_module": "@jupyter-widgets/controls",
            "_model_module_version": "1.5.0",
            "_model_name": "FloatProgressModel",
            "_view_count": null,
            "_view_module": "@jupyter-widgets/controls",
            "_view_module_version": "1.5.0",
            "_view_name": "ProgressView",
            "bar_style": "success",
            "description": "Downloading: 100%",
            "description_tooltip": null,
            "layout": "IPY_MODEL_e7c516f923f74666a8a4b11e17c333bd",
            "max": 791656,
            "min": 0,
            "orientation": "horizontal",
            "style": "IPY_MODEL_4a1b68c322254a53a77e4d05e9ee7631",
            "value": 791656
          }
        },
        "3ef057edd14f4fafbbb0b6fb81e9ba97": {
          "model_module": "@jupyter-widgets/controls",
          "model_name": "DescriptionStyleModel",
          "state": {
            "_model_module": "@jupyter-widgets/controls",
            "_model_module_version": "1.5.0",
            "_model_name": "DescriptionStyleModel",
            "_view_count": null,
            "_view_module": "@jupyter-widgets/base",
            "_view_module_version": "1.2.0",
            "_view_name": "StyleView",
            "description_width": ""
          }
        },
        "483e8e39248842cca6fdb69497417033": {
          "model_module": "@jupyter-widgets/base",
          "model_name": "LayoutModel",
          "state": {
            "_model_module": "@jupyter-widgets/base",
            "_model_module_version": "1.2.0",
            "_model_name": "LayoutModel",
            "_view_count": null,
            "_view_module": "@jupyter-widgets/base",
            "_view_module_version": "1.2.0",
            "_view_name": "LayoutView",
            "align_content": null,
            "align_items": null,
            "align_self": null,
            "border": null,
            "bottom": null,
            "display": null,
            "flex": null,
            "flex_flow": null,
            "grid_area": null,
            "grid_auto_columns": null,
            "grid_auto_flow": null,
            "grid_auto_rows": null,
            "grid_column": null,
            "grid_gap": null,
            "grid_row": null,
            "grid_template_areas": null,
            "grid_template_columns": null,
            "grid_template_rows": null,
            "height": null,
            "justify_content": null,
            "justify_items": null,
            "left": null,
            "margin": null,
            "max_height": null,
            "max_width": null,
            "min_height": null,
            "min_width": null,
            "object_fit": null,
            "object_position": null,
            "order": null,
            "overflow": null,
            "overflow_x": null,
            "overflow_y": null,
            "padding": null,
            "right": null,
            "top": null,
            "visibility": null,
            "width": null
          }
        },
        "4a1b68c322254a53a77e4d05e9ee7631": {
          "model_module": "@jupyter-widgets/controls",
          "model_name": "ProgressStyleModel",
          "state": {
            "_model_module": "@jupyter-widgets/controls",
            "_model_module_version": "1.5.0",
            "_model_name": "ProgressStyleModel",
            "_view_count": null,
            "_view_module": "@jupyter-widgets/base",
            "_view_module_version": "1.2.0",
            "_view_name": "StyleView",
            "bar_color": null,
            "description_width": "initial"
          }
        },
        "55811622761d49559291f3e74f072d31": {
          "model_module": "@jupyter-widgets/base",
          "model_name": "LayoutModel",
          "state": {
            "_model_module": "@jupyter-widgets/base",
            "_model_module_version": "1.2.0",
            "_model_name": "LayoutModel",
            "_view_count": null,
            "_view_module": "@jupyter-widgets/base",
            "_view_module_version": "1.2.0",
            "_view_name": "LayoutView",
            "align_content": null,
            "align_items": null,
            "align_self": null,
            "border": null,
            "bottom": null,
            "display": null,
            "flex": null,
            "flex_flow": null,
            "grid_area": null,
            "grid_auto_columns": null,
            "grid_auto_flow": null,
            "grid_auto_rows": null,
            "grid_column": null,
            "grid_gap": null,
            "grid_row": null,
            "grid_template_areas": null,
            "grid_template_columns": null,
            "grid_template_rows": null,
            "height": null,
            "justify_content": null,
            "justify_items": null,
            "left": null,
            "margin": null,
            "max_height": null,
            "max_width": null,
            "min_height": null,
            "min_width": null,
            "object_fit": null,
            "object_position": null,
            "order": null,
            "overflow": null,
            "overflow_x": null,
            "overflow_y": null,
            "padding": null,
            "right": null,
            "top": null,
            "visibility": null,
            "width": null
          }
        },
        "6a4014978e96442789889fef7919d87f": {
          "model_module": "@jupyter-widgets/base",
          "model_name": "LayoutModel",
          "state": {
            "_model_module": "@jupyter-widgets/base",
            "_model_module_version": "1.2.0",
            "_model_name": "LayoutModel",
            "_view_count": null,
            "_view_module": "@jupyter-widgets/base",
            "_view_module_version": "1.2.0",
            "_view_name": "LayoutView",
            "align_content": null,
            "align_items": null,
            "align_self": null,
            "border": null,
            "bottom": null,
            "display": null,
            "flex": null,
            "flex_flow": null,
            "grid_area": null,
            "grid_auto_columns": null,
            "grid_auto_flow": null,
            "grid_auto_rows": null,
            "grid_column": null,
            "grid_gap": null,
            "grid_row": null,
            "grid_template_areas": null,
            "grid_template_columns": null,
            "grid_template_rows": null,
            "height": null,
            "justify_content": null,
            "justify_items": null,
            "left": null,
            "margin": null,
            "max_height": null,
            "max_width": null,
            "min_height": null,
            "min_width": null,
            "object_fit": null,
            "object_position": null,
            "order": null,
            "overflow": null,
            "overflow_x": null,
            "overflow_y": null,
            "padding": null,
            "right": null,
            "top": null,
            "visibility": null,
            "width": null
          }
        },
        "898bb243539e4693a1a024e54dac42e2": {
          "model_module": "@jupyter-widgets/controls",
          "model_name": "FloatProgressModel",
          "state": {
            "_dom_classes": [],
            "_model_module": "@jupyter-widgets/controls",
            "_model_module_version": "1.5.0",
            "_model_name": "FloatProgressModel",
            "_view_count": null,
            "_view_module": "@jupyter-widgets/controls",
            "_view_module_version": "1.5.0",
            "_view_name": "ProgressView",
            "bar_style": "success",
            "description": "Downloading: 100%",
            "description_tooltip": null,
            "layout": "IPY_MODEL_d252ead0d3fc4885bed21c592dc9394c",
            "max": 1200,
            "min": 0,
            "orientation": "horizontal",
            "style": "IPY_MODEL_af7cb58500024f7cac6545a44045bdd1",
            "value": 1200
          }
        },
        "8ed15a3ae7c64fdea663832082e80529": {
          "model_module": "@jupyter-widgets/controls",
          "model_name": "DescriptionStyleModel",
          "state": {
            "_model_module": "@jupyter-widgets/controls",
            "_model_module_version": "1.5.0",
            "_model_name": "DescriptionStyleModel",
            "_view_count": null,
            "_view_module": "@jupyter-widgets/base",
            "_view_module_version": "1.2.0",
            "_view_name": "StyleView",
            "description_width": ""
          }
        },
        "8ff347600d6f42e5bf198232909fe086": {
          "model_module": "@jupyter-widgets/base",
          "model_name": "LayoutModel",
          "state": {
            "_model_module": "@jupyter-widgets/base",
            "_model_module_version": "1.2.0",
            "_model_name": "LayoutModel",
            "_view_count": null,
            "_view_module": "@jupyter-widgets/base",
            "_view_module_version": "1.2.0",
            "_view_name": "LayoutView",
            "align_content": null,
            "align_items": null,
            "align_self": null,
            "border": null,
            "bottom": null,
            "display": null,
            "flex": null,
            "flex_flow": null,
            "grid_area": null,
            "grid_auto_columns": null,
            "grid_auto_flow": null,
            "grid_auto_rows": null,
            "grid_column": null,
            "grid_gap": null,
            "grid_row": null,
            "grid_template_areas": null,
            "grid_template_columns": null,
            "grid_template_rows": null,
            "height": null,
            "justify_content": null,
            "justify_items": null,
            "left": null,
            "margin": null,
            "max_height": null,
            "max_width": null,
            "min_height": null,
            "min_width": null,
            "object_fit": null,
            "object_position": null,
            "order": null,
            "overflow": null,
            "overflow_x": null,
            "overflow_y": null,
            "padding": null,
            "right": null,
            "top": null,
            "visibility": null,
            "width": null
          }
        },
        "9b0393c7c87e42838da0e38fb72b2941": {
          "model_module": "@jupyter-widgets/controls",
          "model_name": "HTMLModel",
          "state": {
            "_dom_classes": [],
            "_model_module": "@jupyter-widgets/controls",
            "_model_module_version": "1.5.0",
            "_model_name": "HTMLModel",
            "_view_count": null,
            "_view_module": "@jupyter-widgets/controls",
            "_view_module_version": "1.5.0",
            "_view_name": "HTMLView",
            "description": "",
            "description_tooltip": null,
            "layout": "IPY_MODEL_8ff347600d6f42e5bf198232909fe086",
            "placeholder": "​",
            "style": "IPY_MODEL_3ef057edd14f4fafbbb0b6fb81e9ba97",
            "value": " 2.95G/2.95G [03:27&lt;00:00, 14.2MB/s]"
          }
        },
        "ab283be8197e4a638fd83dc475b57486": {
          "model_module": "@jupyter-widgets/controls",
          "model_name": "HTMLModel",
          "state": {
            "_dom_classes": [],
            "_model_module": "@jupyter-widgets/controls",
            "_model_module_version": "1.5.0",
            "_model_name": "HTMLModel",
            "_view_count": null,
            "_view_module": "@jupyter-widgets/controls",
            "_view_module_version": "1.5.0",
            "_view_name": "HTMLView",
            "description": "",
            "description_tooltip": null,
            "layout": "IPY_MODEL_6a4014978e96442789889fef7919d87f",
            "placeholder": "​",
            "style": "IPY_MODEL_8ed15a3ae7c64fdea663832082e80529",
            "value": " 1.20k/1.20k [03:27&lt;00:00, 5.78B/s]"
          }
        },
        "af7cb58500024f7cac6545a44045bdd1": {
          "model_module": "@jupyter-widgets/controls",
          "model_name": "ProgressStyleModel",
          "state": {
            "_model_module": "@jupyter-widgets/controls",
            "_model_module_version": "1.5.0",
            "_model_name": "ProgressStyleModel",
            "_view_count": null,
            "_view_module": "@jupyter-widgets/base",
            "_view_module_version": "1.2.0",
            "_view_name": "StyleView",
            "bar_color": null,
            "description_width": "initial"
          }
        },
        "d252ead0d3fc4885bed21c592dc9394c": {
          "model_module": "@jupyter-widgets/base",
          "model_name": "LayoutModel",
          "state": {
            "_model_module": "@jupyter-widgets/base",
            "_model_module_version": "1.2.0",
            "_model_name": "LayoutModel",
            "_view_count": null,
            "_view_module": "@jupyter-widgets/base",
            "_view_module_version": "1.2.0",
            "_view_name": "LayoutView",
            "align_content": null,
            "align_items": null,
            "align_self": null,
            "border": null,
            "bottom": null,
            "display": null,
            "flex": null,
            "flex_flow": null,
            "grid_area": null,
            "grid_auto_columns": null,
            "grid_auto_flow": null,
            "grid_auto_rows": null,
            "grid_column": null,
            "grid_gap": null,
            "grid_row": null,
            "grid_template_areas": null,
            "grid_template_columns": null,
            "grid_template_rows": null,
            "height": null,
            "justify_content": null,
            "justify_items": null,
            "left": null,
            "margin": null,
            "max_height": null,
            "max_width": null,
            "min_height": null,
            "min_width": null,
            "object_fit": null,
            "object_position": null,
            "order": null,
            "overflow": null,
            "overflow_x": null,
            "overflow_y": null,
            "padding": null,
            "right": null,
            "top": null,
            "visibility": null,
            "width": null
          }
        },
        "e7c516f923f74666a8a4b11e17c333bd": {
          "model_module": "@jupyter-widgets/base",
          "model_name": "LayoutModel",
          "state": {
            "_model_module": "@jupyter-widgets/base",
            "_model_module_version": "1.2.0",
            "_model_name": "LayoutModel",
            "_view_count": null,
            "_view_module": "@jupyter-widgets/base",
            "_view_module_version": "1.2.0",
            "_view_name": "LayoutView",
            "align_content": null,
            "align_items": null,
            "align_self": null,
            "border": null,
            "bottom": null,
            "display": null,
            "flex": null,
            "flex_flow": null,
            "grid_area": null,
            "grid_auto_columns": null,
            "grid_auto_flow": null,
            "grid_auto_rows": null,
            "grid_column": null,
            "grid_gap": null,
            "grid_row": null,
            "grid_template_areas": null,
            "grid_template_columns": null,
            "grid_template_rows": null,
            "height": null,
            "justify_content": null,
            "justify_items": null,
            "left": null,
            "margin": null,
            "max_height": null,
            "max_width": null,
            "min_height": null,
            "min_width": null,
            "object_fit": null,
            "object_position": null,
            "order": null,
            "overflow": null,
            "overflow_x": null,
            "overflow_y": null,
            "padding": null,
            "right": null,
            "top": null,
            "visibility": null,
            "width": null
          }
        },
        "fef9e2aa436040c0822605be0df0c359": {
          "model_module": "@jupyter-widgets/controls",
          "model_name": "FloatProgressModel",
          "state": {
            "_dom_classes": [],
            "_model_module": "@jupyter-widgets/controls",
            "_model_module_version": "1.5.0",
            "_model_name": "FloatProgressModel",
            "_view_count": null,
            "_view_module": "@jupyter-widgets/controls",
            "_view_module_version": "1.5.0",
            "_view_name": "ProgressView",
            "bar_style": "success",
            "description": "Downloading: 100%",
            "description_tooltip": null,
            "layout": "IPY_MODEL_28ac8f3a26ca4c51ab913c482234f3ab",
            "max": 2950825948,
            "min": 0,
            "orientation": "horizontal",
            "style": "IPY_MODEL_3707cb9b877c451bb245d051c19af8fa",
            "value": 2950825948
          }
        }
      }
    }
  },
  "nbformat": 4,
  "nbformat_minor": 0
}
