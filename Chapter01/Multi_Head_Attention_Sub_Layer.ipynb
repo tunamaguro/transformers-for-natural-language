{
  "cells": [
    {
      "cell_type": "markdown",
      "metadata": {
        "colab_type": "text",
        "id": "aXACkAtfNpG0"
      },
      "source": [
        "# The Attention Mechanism\n",
        "Copyright 2020, Denis Rothman, MIT License. Denis Rothman rewrote the reference notebook entirely in basic Python with no frameworks. Three more steps were added, and a Hugging Face transformer example was added. The original images were taken out, redesigned by Denis Rothman for educational purposes, and inserted in the book descriptions of the multi-attention sub-layer.\n",
        "\n",
        "[The Reference Colaboratory Notebook was written by Manuel Romero](https://colab.research.google.com/drive/1rPk3ohrmVclqhH7uQ7qys4oznDdAhpzF)\n",
        "\n",
        "[A Medium article was written by Raimi Karim](https://towardsdatascience.com/illustrated-self-attention-2d627e33b20a)"
      ]
    },
    {
      "cell_type": "code",
      "execution_count": 1,
      "metadata": {
        "colab": {},
        "colab_type": "code",
        "id": "veRoFjFRNXwJ"
      },
      "outputs": [],
      "source": [
        "import numpy as np\n",
        "from scipy.special import softmax"
      ]
    },
    {
      "cell_type": "code",
      "execution_count": 2,
      "metadata": {
        "colab": {
          "base_uri": "https://localhost:8080/",
          "height": 90
        },
        "colab_type": "code",
        "id": "JLe9lWCJNogW",
        "outputId": "733e039b-343e-4161-9919-19b3a1ec130f"
      },
      "outputs": [
        {
          "name": "stdout",
          "output_type": "stream",
          "text": [
            "Step 1: Input : 3 inputs, d_model=4\n",
            "[[1. 0. 1. 0.]\n",
            " [0. 2. 0. 2.]\n",
            " [1. 1. 1. 1.]]\n"
          ]
        }
      ],
      "source": [
        "print(\"Step 1: Input : 3 inputs, d_model=4\")\n",
        "x =np.array([[1.0, 0.0, 1.0, 0.0],   # Input 1\n",
        "             [0.0, 2.0, 0.0, 2.0],   # Input 2\n",
        "             [1.0, 1.0, 1.0, 1.0]])  # Input 3\n",
        "print(x)"
      ]
    },
    {
      "cell_type": "code",
      "execution_count": 3,
      "metadata": {
        "colab": {
          "base_uri": "https://localhost:8080/",
          "height": 126
        },
        "colab_type": "code",
        "id": "JZImwtHPN91V",
        "outputId": "07706940-e200-4956-b957-fe9681139d0d"
      },
      "outputs": [
        {
          "name": "stdout",
          "output_type": "stream",
          "text": [
            "Step 2: weights 3 dimensions x d_model=4\n",
            "w_query\n",
            "[[1 0 1]\n",
            " [1 0 0]\n",
            " [0 0 1]\n",
            " [0 1 1]]\n"
          ]
        }
      ],
      "source": [
        "print(\"Step 2: weights 3 dimensions x d_model=4\")\n",
        "print(\"w_query\")\n",
        "w_query =np.array([[1, 0, 1],\n",
        "                   [1, 0, 0],\n",
        "                   [0, 0, 1],\n",
        "                   [0, 1, 1]])\n",
        "print(w_query)"
      ]
    },
    {
      "cell_type": "code",
      "execution_count": 4,
      "metadata": {
        "colab": {
          "base_uri": "https://localhost:8080/",
          "height": 108
        },
        "colab_type": "code",
        "id": "7kRBS7MUOFgV",
        "outputId": "8b0bcc03-88b1-4e8d-a483-dacc91ffa9ee"
      },
      "outputs": [
        {
          "name": "stdout",
          "output_type": "stream",
          "text": [
            "w_key\n",
            "[[0 0 1]\n",
            " [1 1 0]\n",
            " [0 1 0]\n",
            " [1 1 0]]\n"
          ]
        }
      ],
      "source": [
        "print(\"w_key\")\n",
        "w_key =np.array([[0, 0, 1],\n",
        "                 [1, 1, 0],\n",
        "                 [0, 1, 0],\n",
        "                 [1, 1, 0]])\n",
        "print(w_key)"
      ]
    },
    {
      "cell_type": "code",
      "execution_count": 5,
      "metadata": {
        "colab": {
          "base_uri": "https://localhost:8080/",
          "height": 108
        },
        "colab_type": "code",
        "id": "Napm2VtkOIEN",
        "outputId": "7331eb08-64d5-4a36-eeef-0a0a556f130b"
      },
      "outputs": [
        {
          "name": "stdout",
          "output_type": "stream",
          "text": [
            "w_value\n",
            "[[0 2 0]\n",
            " [0 3 0]\n",
            " [1 0 3]\n",
            " [1 1 0]]\n"
          ]
        }
      ],
      "source": [
        "print(\"w_value\")\n",
        "w_value = np.array([[0, 2, 0],\n",
        "                    [0, 3, 0],\n",
        "                    [1, 0, 3],\n",
        "                    [1, 1, 0]])\n",
        "print(w_value)"
      ]
    },
    {
      "cell_type": "code",
      "execution_count": 6,
      "metadata": {
        "colab": {
          "base_uri": "https://localhost:8080/",
          "height": 108
        },
        "colab_type": "code",
        "id": "JqapIgfDOQ7d",
        "outputId": "fd610d7a-968a-47e6-d614-40ad03c1d172"
      },
      "outputs": [
        {
          "name": "stdout",
          "output_type": "stream",
          "text": [
            "Step 3: Matrix multiplication to obtain Q,K,V\n",
            "Queries: x * w_query\n",
            "[[1. 0. 2.]\n",
            " [2. 2. 2.]\n",
            " [2. 1. 3.]]\n"
          ]
        }
      ],
      "source": [
        "print(\"Step 3: Matrix multiplication to obtain Q,K,V\")\n",
        "\n",
        "print(\"Queries: x * w_query\")\n",
        "Q=np.matmul(x,w_query)\n",
        "print(Q)"
      ]
    },
    {
      "cell_type": "code",
      "execution_count": 7,
      "metadata": {
        "colab": {
          "base_uri": "https://localhost:8080/",
          "height": 108
        },
        "colab_type": "code",
        "id": "NmfMln1Wmv73",
        "outputId": "065b63ba-7584-4302-97cd-d5e1765470ed"
      },
      "outputs": [
        {
          "name": "stdout",
          "output_type": "stream",
          "text": [
            "Step 3: Matrix multiplication to obtain Q,K,V\n",
            "Keys: x * w_key\n",
            "[[0. 1. 1.]\n",
            " [4. 4. 0.]\n",
            " [2. 3. 1.]]\n"
          ]
        }
      ],
      "source": [
        "print(\"Step 3: Matrix multiplication to obtain Q,K,V\")\n",
        "\n",
        "print(\"Keys: x * w_key\")\n",
        "K=np.matmul(x,w_key)\n",
        "print(K)"
      ]
    },
    {
      "cell_type": "code",
      "execution_count": 8,
      "metadata": {
        "colab": {
          "base_uri": "https://localhost:8080/",
          "height": 90
        },
        "colab_type": "code",
        "id": "v3Asv-8mOWkN",
        "outputId": "2ec71310-0486-46f4-d9f5-d12a1a6ad0e6"
      },
      "outputs": [
        {
          "name": "stdout",
          "output_type": "stream",
          "text": [
            "Values: x * w_value\n",
            "[[1. 2. 3.]\n",
            " [2. 8. 0.]\n",
            " [2. 6. 3.]]\n"
          ]
        }
      ],
      "source": [
        "print(\"Values: x * w_value\")\n",
        "V=np.matmul(x,w_value)\n",
        "print(V)"
      ]
    },
    {
      "cell_type": "code",
      "execution_count": 13,
      "metadata": {},
      "outputs": [
        {
          "data": {
            "text/plain": [
              "array([[1., 0., 2.],\n",
              "       [2., 2., 2.],\n",
              "       [2., 1., 3.]])"
            ]
          },
          "execution_count": 13,
          "metadata": {},
          "output_type": "execute_result"
        }
      ],
      "source": [
        "Q"
      ]
    },
    {
      "cell_type": "code",
      "execution_count": 12,
      "metadata": {},
      "outputs": [
        {
          "data": {
            "text/plain": [
              "array([[0., 4., 2.],\n",
              "       [1., 4., 3.],\n",
              "       [1., 0., 1.]])"
            ]
          },
          "execution_count": 12,
          "metadata": {},
          "output_type": "execute_result"
        }
      ],
      "source": [
        "K.T"
      ]
    },
    {
      "cell_type": "code",
      "execution_count": 9,
      "metadata": {
        "colab": {
          "base_uri": "https://localhost:8080/",
          "height": 90
        },
        "colab_type": "code",
        "id": "gfgRAHUuOp5c",
        "outputId": "ad02f055-11e0-4b9a-eb15-b66e4846c95e"
      },
      "outputs": [
        {
          "name": "stdout",
          "output_type": "stream",
          "text": [
            "Step 4: Scaled Attention Scores\n",
            "[[ 2.  4.  4.]\n",
            " [ 4. 16. 12.]\n",
            " [ 4. 12. 10.]]\n"
          ]
        }
      ],
      "source": [
        "print(\"Step 4: Scaled Attention Scores\")\n",
        "k_d=1   #square root of k_d=3 rounded down to 1 for this example\n",
        "attention_scores = (Q @ K.transpose())/k_d\n",
        "print(attention_scores)"
      ]
    },
    {
      "cell_type": "code",
      "execution_count": 10,
      "metadata": {
        "colab": {
          "base_uri": "https://localhost:8080/",
          "height": 90
        },
        "colab_type": "code",
        "id": "hg2t6KuNOjzM",
        "outputId": "c0610f91-cd1d-4b0f-b5ce-f6445481186a"
      },
      "outputs": [
        {
          "name": "stdout",
          "output_type": "stream",
          "text": [
            "Step 5: Scaled softmax attention_scores for each vector\n",
            "[0.06337894 0.46831053 0.46831053]\n",
            "[6.03366485e-06 9.82007865e-01 1.79861014e-02]\n",
            "[2.95387223e-04 8.80536902e-01 1.19167711e-01]\n"
          ]
        }
      ],
      "source": [
        "print(\"Step 5: Scaled softmax attention_scores for each vector\")\n",
        "attention_scores[0]=softmax(attention_scores[0])\n",
        "attention_scores[1]=softmax(attention_scores[1])\n",
        "attention_scores[2]=softmax(attention_scores[2])\n",
        "print(attention_scores[0])\n",
        "print(attention_scores[1])\n",
        "print(attention_scores[2])"
      ]
    },
    {
      "cell_type": "code",
      "execution_count": 16,
      "metadata": {
        "colab": {
          "base_uri": "https://localhost:8080/",
          "height": 199
        },
        "colab_type": "code",
        "id": "R4Es7A7NOvjD",
        "outputId": "b86060fe-1292-47c5-93f6-ddeeca1bfb62"
      },
      "outputs": [
        {
          "name": "stdout",
          "output_type": "stream",
          "text": [
            "Step 6: attention value obtained by score1/k_d * V\n",
            "[1. 2. 3.]\n",
            "[2. 8. 0.]\n",
            "[2. 6. 3.]\n",
            "Attention 1\n",
            "[0.06337894 0.12675788 0.19013681]\n",
            "Attention 2\n",
            "[0.93662106 3.74648425 0.        ]\n",
            "Attention 3\n",
            "[0.93662106 2.80986319 1.40493159]\n"
          ]
        }
      ],
      "source": [
        "print(\"Step 6: attention value obtained by score1/k_d * V\")\n",
        "print(V[0])\n",
        "print(V[1])\n",
        "print(V[2])\n",
        "print(\"Attention 1\")\n",
        "attention1=attention_scores[0].reshape(-1,1)\n",
        "attention1=attention_scores[0][0]*V[0]\n",
        "print(attention1)\n",
        "\n",
        "print(\"Attention 2\")\n",
        "attention2=attention_scores[0][1]*V[1]\n",
        "print(attention2)\n",
        "\n",
        "print(\"Attention 3\")\n",
        "attention3=attention_scores[0][2]*V[2]\n",
        "print(attention3)"
      ]
    },
    {
      "cell_type": "code",
      "execution_count": 17,
      "metadata": {
        "colab": {
          "base_uri": "https://localhost:8080/",
          "height": 54
        },
        "colab_type": "code",
        "id": "uBDKhaCvOzXj",
        "outputId": "138901d8-0aa9-4db9-b8b1-76ad557e6688"
      },
      "outputs": [
        {
          "name": "stdout",
          "output_type": "stream",
          "text": [
            "Step 7: summed the results to create the first line of the output matrix\n",
            "[1.93662106 6.68310531 1.59506841]\n"
          ]
        }
      ],
      "source": [
        "print(\"Step 7: summed the results to create the first line of the output matrix\")\n",
        "attention_input1=attention1+attention2+attention3\n",
        "print(attention_input1)"
      ]
    },
    {
      "cell_type": "code",
      "execution_count": 18,
      "metadata": {
        "colab": {
          "base_uri": "https://localhost:8080/",
          "height": 635
        },
        "colab_type": "code",
        "id": "iEjgRcqHO4ik",
        "outputId": "675a154b-a305-4c0c-e314-353541abfd3e"
      },
      "outputs": [
        {
          "name": "stdout",
          "output_type": "stream",
          "text": [
            "Step 8: Step 1 to 7 for inputs 1 to 3\n",
            "[[6.91400754e-01 7.88217117e-01 2.26471474e-01 2.35364268e-01\n",
            "  1.75119927e-01 7.66876858e-01 4.80044474e-01 5.58219004e-01\n",
            "  4.65249526e-01 2.91085581e-01 3.88760940e-01 6.68266183e-01\n",
            "  8.66963012e-01 9.50168730e-01 9.57922614e-01 8.56597987e-02\n",
            "  1.23680611e-02 7.90960680e-01 9.68699280e-01 3.55510605e-01\n",
            "  5.24422213e-01 4.65620116e-01 6.72453376e-01 6.01370289e-01\n",
            "  5.54950646e-01 1.67151658e-01 7.66041687e-01 7.82407715e-01\n",
            "  1.23232584e-01 9.97923606e-01 7.91232587e-01 8.98590721e-01\n",
            "  2.61548629e-01 4.42841129e-01 3.19908253e-01 6.74920470e-01\n",
            "  9.66748543e-01 2.04643996e-01 7.35389188e-01 3.08354543e-01\n",
            "  8.36822339e-01 5.99633716e-01 1.81042028e-01 9.51365189e-01\n",
            "  7.90098357e-01 7.88680308e-01 5.86934274e-01 1.44506611e-04\n",
            "  5.81256005e-03 7.56314295e-01 1.00100173e-01 7.20326712e-01\n",
            "  7.78341684e-01 6.77253400e-02 2.94359090e-01 9.89958082e-01\n",
            "  4.51833625e-01 3.67981298e-01 6.61916940e-01 4.24376873e-02\n",
            "  1.10839397e-01 5.96875456e-01 5.01180095e-01 2.39828247e-01]\n",
            " [7.99065921e-01 9.70898745e-01 7.07793485e-01 6.29994145e-01\n",
            "  8.77631268e-02 8.19825167e-01 3.52178708e-01 6.87705360e-01\n",
            "  2.99250612e-01 7.86168100e-01 7.72400014e-01 5.88301964e-02\n",
            "  3.85818370e-01 4.97076901e-01 6.30811376e-01 1.63917282e-01\n",
            "  3.47869696e-01 7.17186779e-01 6.09863850e-01 7.76397565e-01\n",
            "  8.10182976e-01 1.18917592e-01 5.44306282e-01 6.49655382e-01\n",
            "  7.34906778e-01 5.17464684e-01 2.76172400e-01 7.07029321e-01\n",
            "  3.94465703e-01 6.50987776e-01 5.67149847e-01 8.38839277e-01\n",
            "  8.20019881e-01 9.76756855e-01 4.63047346e-01 4.51467704e-01\n",
            "  6.89761639e-01 4.85806252e-01 5.36311647e-01 6.55747687e-01\n",
            "  6.34993004e-01 3.83468635e-02 6.76755211e-01 1.17682931e-01\n",
            "  8.87139865e-01 6.51609800e-01 6.05476684e-02 3.35234376e-01\n",
            "  4.37674108e-01 3.80764448e-01 6.32145485e-01 4.20832991e-01\n",
            "  1.76933168e-01 5.60843971e-01 5.39924524e-01 2.76843268e-01\n",
            "  8.69743801e-01 6.71680343e-01 5.00178594e-01 1.48471899e-01\n",
            "  7.39855682e-01 9.10127366e-01 9.78338798e-01 9.47650569e-01]\n",
            " [2.25612831e-01 5.14783078e-01 2.78224915e-01 7.09191224e-01\n",
            "  6.91864447e-02 2.95581552e-01 8.56150805e-01 9.33708426e-01\n",
            "  9.11107519e-01 7.63773322e-01 2.34027921e-01 1.65889924e-01\n",
            "  4.08087523e-01 1.23889278e-01 1.09992662e-01 1.46161740e-01\n",
            "  7.86415210e-01 8.65084562e-01 4.69540724e-01 9.11005230e-01\n",
            "  7.64164134e-01 9.61924340e-02 7.17796896e-01 7.24386061e-01\n",
            "  5.16812087e-01 2.89564721e-01 4.64807109e-01 9.61257554e-01\n",
            "  9.61727626e-01 1.15527298e-01 7.83756022e-02 8.78146480e-01\n",
            "  1.80812207e-01 6.73949670e-01 5.00207572e-01 1.63309561e-01\n",
            "  6.00989663e-01 2.94132813e-01 7.20913710e-01 5.95000241e-01\n",
            "  9.46207950e-01 1.11959455e-01 3.33124522e-01 3.29505489e-01\n",
            "  1.06125034e-01 4.95110792e-01 9.30902016e-01 1.17088236e-01\n",
            "  1.93164204e-01 2.29436758e-01 3.51470296e-02 5.63750887e-01\n",
            "  1.32297463e-01 5.86724240e-01 4.99111357e-01 6.14139854e-01\n",
            "  1.53562379e-01 9.51183204e-01 4.16696646e-01 4.16456142e-01\n",
            "  5.41978281e-01 1.65442643e-01 6.25533340e-01 1.55172467e-01]]\n"
          ]
        }
      ],
      "source": [
        "print(\"Step 8: Step 1 to 7 for inputs 1 to 3\")\n",
        "#We assume we have 3 results with learned weights (they were not trained in this example)\n",
        "#We assume we are implementing the original Transformer paper. We will have 3 results of 64 dimensions each\n",
        "attention_head1=np.random.random((3, 64))\n",
        "print(attention_head1)"
      ]
    },
    {
      "cell_type": "code",
      "execution_count": 19,
      "metadata": {
        "colab": {
          "base_uri": "https://localhost:8080/",
          "height": 54
        },
        "colab_type": "code",
        "id": "QI50dkZ1O630",
        "outputId": "7d467842-f837-4e41-e099-534549b6fc05"
      },
      "outputs": [
        {
          "name": "stdout",
          "output_type": "stream",
          "text": [
            "Step 9: We assume we have trained the 8 heads of the attention sub-layer\n",
            "shape of one head (3, 64) dimension of 8 heads 512\n"
          ]
        }
      ],
      "source": [
        "print(\"Step 9: We assume we have trained the 8 heads of the attention sub-layer\")\n",
        "z0h1=np.random.random((3, 64))\n",
        "z1h2=np.random.random((3, 64))\n",
        "z2h3=np.random.random((3, 64))\n",
        "z3h4=np.random.random((3, 64))\n",
        "z4h5=np.random.random((3, 64))\n",
        "z5h6=np.random.random((3, 64))\n",
        "z6h7=np.random.random((3, 64))\n",
        "z7h8=np.random.random((3, 64))\n",
        "print(\"shape of one head\",z0h1.shape,\"dimension of 8 heads\",64*8)"
      ]
    },
    {
      "cell_type": "code",
      "execution_count": 22,
      "metadata": {
        "colab": {
          "base_uri": "https://localhost:8080/",
          "height": 90
        },
        "colab_type": "code",
        "id": "3n87LE92_Puf",
        "outputId": "55d00415-ebea-43a6-b4c5-ff13e02c3052"
      },
      "outputs": [
        {
          "name": "stdout",
          "output_type": "stream",
          "text": [
            "Step 10: Concatenation of heads 1 to 8 to obtain the original 8x64=512 output dimension of the model\n",
            "[[0.11380201 0.87651269 0.98258082 ... 0.4456309  0.39548859 0.18828814]\n",
            " [0.8458044  0.21542557 0.69753714 ... 0.60547548 0.58524639 0.39891883]\n",
            " [0.98428664 0.72436044 0.52244184 ... 0.28235419 0.18110865 0.45857894]]\n"
          ]
        }
      ],
      "source": [
        "print(\"Step 10: Concatenation of heads 1 to 8 to obtain the original 8x64=512 output dimension of the model\")\n",
        "output_attention=np.hstack((z0h1,z1h2,z2h3,z3h4,z4h5,z5h6,z6h7,z7h8))\n",
        "print(output_attention)"
      ]
    },
    {
      "cell_type": "markdown",
      "metadata": {
        "colab_type": "text",
        "id": "PJLl4Jf3fPLh"
      },
      "source": [
        "And now with Hugging Face in one line!"
      ]
    },
    {
      "cell_type": "code",
      "execution_count": null,
      "metadata": {
        "colab": {},
        "colab_type": "code",
        "id": "CZIRvcRmfTPb"
      },
      "outputs": [],
      "source": [
        "#@title Transformer Installation\n",
        "!pip -qq install transformers"
      ]
    },
    {
      "cell_type": "code",
      "execution_count": null,
      "metadata": {
        "colab": {
          "base_uri": "https://localhost:8080/",
          "height": 85,
          "referenced_widgets": [
            "946c90b82f7f46caa25c885668b75eab",
            "4191af78535e4da8bb797690eff84e00",
            "9ce3d57b96b64da0b15e3f3626bacb30",
            "f8da2c91156342a69d9b262f4f993aa4",
            "97370923218945c5b80ab468751ac8a7",
            "0ba4a91f472e4c41ba80ab4025288446",
            "15aa4b6f8f784c74804107be249126b9",
            "edea457617ed4792aeeb65292019ceb4"
          ]
        },
        "colab_type": "code",
        "id": "cNwLYc-SfXdF",
        "outputId": "d1314cc6-74d6-45cf-b8d6-0a903e58ac60"
      },
      "outputs": [
        {
          "data": {
            "application/vnd.jupyter.widget-view+json": {
              "model_id": "946c90b82f7f46caa25c885668b75eab",
              "version_major": 2,
              "version_minor": 0
            },
            "text/plain": [
              "HBox(children=(FloatProgress(value=0.0, description='Downloading', max=230.0, style=ProgressStyle(description_…"
            ]
          },
          "metadata": {
            "tags": []
          },
          "output_type": "display_data"
        },
        {
          "name": "stdout",
          "output_type": "stream",
          "text": [
            "\n",
            "[{'translation_text': 'Il est facile de traduire des langues avec des transformateurs.'}]\n"
          ]
        }
      ],
      "source": [
        "#@title Retrieve pipeline of modules and choose English to French translation\n",
        "from transformers import pipeline\n",
        "translator = pipeline(\"translation_en_to_fr\")\n",
        "#One line of code!\n",
        "print(translator(\"It is easy to translate languages with transformers\", max_length=40))"
      ]
    }
  ],
  "metadata": {
    "accelerator": "GPU",
    "colab": {
      "collapsed_sections": [],
      "name": "Multi-Head Attention Sub-Layer.ipynb",
      "provenance": []
    },
    "kernelspec": {
      "display_name": "Python 3",
      "name": "python3"
    },
    "language_info": {
      "codemirror_mode": {
        "name": "ipython",
        "version": 3
      },
      "file_extension": ".py",
      "mimetype": "text/x-python",
      "name": "python",
      "nbconvert_exporter": "python",
      "pygments_lexer": "ipython3",
      "version": "3.10.6"
    },
    "widgets": {
      "application/vnd.jupyter.widget-state+json": {
        "0ba4a91f472e4c41ba80ab4025288446": {
          "model_module": "@jupyter-widgets/base",
          "model_name": "LayoutModel",
          "state": {
            "_model_module": "@jupyter-widgets/base",
            "_model_module_version": "1.2.0",
            "_model_name": "LayoutModel",
            "_view_count": null,
            "_view_module": "@jupyter-widgets/base",
            "_view_module_version": "1.2.0",
            "_view_name": "LayoutView",
            "align_content": null,
            "align_items": null,
            "align_self": null,
            "border": null,
            "bottom": null,
            "display": null,
            "flex": null,
            "flex_flow": null,
            "grid_area": null,
            "grid_auto_columns": null,
            "grid_auto_flow": null,
            "grid_auto_rows": null,
            "grid_column": null,
            "grid_gap": null,
            "grid_row": null,
            "grid_template_areas": null,
            "grid_template_columns": null,
            "grid_template_rows": null,
            "height": null,
            "justify_content": null,
            "justify_items": null,
            "left": null,
            "margin": null,
            "max_height": null,
            "max_width": null,
            "min_height": null,
            "min_width": null,
            "object_fit": null,
            "object_position": null,
            "order": null,
            "overflow": null,
            "overflow_x": null,
            "overflow_y": null,
            "padding": null,
            "right": null,
            "top": null,
            "visibility": null,
            "width": null
          }
        },
        "15aa4b6f8f784c74804107be249126b9": {
          "model_module": "@jupyter-widgets/controls",
          "model_name": "DescriptionStyleModel",
          "state": {
            "_model_module": "@jupyter-widgets/controls",
            "_model_module_version": "1.5.0",
            "_model_name": "DescriptionStyleModel",
            "_view_count": null,
            "_view_module": "@jupyter-widgets/base",
            "_view_module_version": "1.2.0",
            "_view_name": "StyleView",
            "description_width": ""
          }
        },
        "4191af78535e4da8bb797690eff84e00": {
          "model_module": "@jupyter-widgets/base",
          "model_name": "LayoutModel",
          "state": {
            "_model_module": "@jupyter-widgets/base",
            "_model_module_version": "1.2.0",
            "_model_name": "LayoutModel",
            "_view_count": null,
            "_view_module": "@jupyter-widgets/base",
            "_view_module_version": "1.2.0",
            "_view_name": "LayoutView",
            "align_content": null,
            "align_items": null,
            "align_self": null,
            "border": null,
            "bottom": null,
            "display": null,
            "flex": null,
            "flex_flow": null,
            "grid_area": null,
            "grid_auto_columns": null,
            "grid_auto_flow": null,
            "grid_auto_rows": null,
            "grid_column": null,
            "grid_gap": null,
            "grid_row": null,
            "grid_template_areas": null,
            "grid_template_columns": null,
            "grid_template_rows": null,
            "height": null,
            "justify_content": null,
            "justify_items": null,
            "left": null,
            "margin": null,
            "max_height": null,
            "max_width": null,
            "min_height": null,
            "min_width": null,
            "object_fit": null,
            "object_position": null,
            "order": null,
            "overflow": null,
            "overflow_x": null,
            "overflow_y": null,
            "padding": null,
            "right": null,
            "top": null,
            "visibility": null,
            "width": null
          }
        },
        "946c90b82f7f46caa25c885668b75eab": {
          "model_module": "@jupyter-widgets/controls",
          "model_name": "HBoxModel",
          "state": {
            "_dom_classes": [],
            "_model_module": "@jupyter-widgets/controls",
            "_model_module_version": "1.5.0",
            "_model_name": "HBoxModel",
            "_view_count": null,
            "_view_module": "@jupyter-widgets/controls",
            "_view_module_version": "1.5.0",
            "_view_name": "HBoxView",
            "box_style": "",
            "children": [
              "IPY_MODEL_9ce3d57b96b64da0b15e3f3626bacb30",
              "IPY_MODEL_f8da2c91156342a69d9b262f4f993aa4"
            ],
            "layout": "IPY_MODEL_4191af78535e4da8bb797690eff84e00"
          }
        },
        "97370923218945c5b80ab468751ac8a7": {
          "model_module": "@jupyter-widgets/controls",
          "model_name": "ProgressStyleModel",
          "state": {
            "_model_module": "@jupyter-widgets/controls",
            "_model_module_version": "1.5.0",
            "_model_name": "ProgressStyleModel",
            "_view_count": null,
            "_view_module": "@jupyter-widgets/base",
            "_view_module_version": "1.2.0",
            "_view_name": "StyleView",
            "bar_color": null,
            "description_width": "initial"
          }
        },
        "9ce3d57b96b64da0b15e3f3626bacb30": {
          "model_module": "@jupyter-widgets/controls",
          "model_name": "FloatProgressModel",
          "state": {
            "_dom_classes": [],
            "_model_module": "@jupyter-widgets/controls",
            "_model_module_version": "1.5.0",
            "_model_name": "FloatProgressModel",
            "_view_count": null,
            "_view_module": "@jupyter-widgets/controls",
            "_view_module_version": "1.5.0",
            "_view_name": "ProgressView",
            "bar_style": "success",
            "description": "Downloading: 100%",
            "description_tooltip": null,
            "layout": "IPY_MODEL_0ba4a91f472e4c41ba80ab4025288446",
            "max": 230,
            "min": 0,
            "orientation": "horizontal",
            "style": "IPY_MODEL_97370923218945c5b80ab468751ac8a7",
            "value": 230
          }
        },
        "edea457617ed4792aeeb65292019ceb4": {
          "model_module": "@jupyter-widgets/base",
          "model_name": "LayoutModel",
          "state": {
            "_model_module": "@jupyter-widgets/base",
            "_model_module_version": "1.2.0",
            "_model_name": "LayoutModel",
            "_view_count": null,
            "_view_module": "@jupyter-widgets/base",
            "_view_module_version": "1.2.0",
            "_view_name": "LayoutView",
            "align_content": null,
            "align_items": null,
            "align_self": null,
            "border": null,
            "bottom": null,
            "display": null,
            "flex": null,
            "flex_flow": null,
            "grid_area": null,
            "grid_auto_columns": null,
            "grid_auto_flow": null,
            "grid_auto_rows": null,
            "grid_column": null,
            "grid_gap": null,
            "grid_row": null,
            "grid_template_areas": null,
            "grid_template_columns": null,
            "grid_template_rows": null,
            "height": null,
            "justify_content": null,
            "justify_items": null,
            "left": null,
            "margin": null,
            "max_height": null,
            "max_width": null,
            "min_height": null,
            "min_width": null,
            "object_fit": null,
            "object_position": null,
            "order": null,
            "overflow": null,
            "overflow_x": null,
            "overflow_y": null,
            "padding": null,
            "right": null,
            "top": null,
            "visibility": null,
            "width": null
          }
        },
        "f8da2c91156342a69d9b262f4f993aa4": {
          "model_module": "@jupyter-widgets/controls",
          "model_name": "HTMLModel",
          "state": {
            "_dom_classes": [],
            "_model_module": "@jupyter-widgets/controls",
            "_model_module_version": "1.5.0",
            "_model_name": "HTMLModel",
            "_view_count": null,
            "_view_module": "@jupyter-widgets/controls",
            "_view_module_version": "1.5.0",
            "_view_name": "HTMLView",
            "description": "",
            "description_tooltip": null,
            "layout": "IPY_MODEL_edea457617ed4792aeeb65292019ceb4",
            "placeholder": "​",
            "style": "IPY_MODEL_15aa4b6f8f784c74804107be249126b9",
            "value": " 230/230 [00:01&lt;00:00, 185B/s]"
          }
        }
      }
    }
  },
  "nbformat": 4,
  "nbformat_minor": 0
}
